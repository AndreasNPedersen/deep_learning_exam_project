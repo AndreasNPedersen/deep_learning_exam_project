{
 "cells": [
  {
   "cell_type": "code",
   "execution_count": null,
   "metadata": {},
   "outputs": [],
   "source": [
    "import numpy as np\n",
    "import torch\n",
    "import torch.nn as nn\n",
    "import torch.optim as optim\n",
    "from torch.autograd import Variable\n",
    "import matplotlib.pyplot as plt\n",
    "import pandas as pd\n",
    "import torchtext as tt\n",
    "import spacy\n",
    "import time\n",
    "from datetime import datetime\n",
    "import re"
   ]
  },
  {
   "cell_type": "code",
   "execution_count": null,
   "metadata": {},
   "outputs": [],
   "source": [
    "# uncomment below line if package hasn't been downloaded yet (error will show module \"en_core_web_sm\" not found)\n",
    "# !python -m spacy download en_core_web_sm\n",
    "\n",
    "\n",
    "dtype = torch.FloatTensor\n",
    "device = torch.device('cuda' if torch.cuda.is_available() else 'cpu')\n",
    "# device = 'cpu'\n",
    "sentences = ''\n",
    "corpus_size = 2000\n",
    "play = False"
   ]
  },
  {
   "cell_type": "code",
   "execution_count": null,
   "metadata": {},
   "outputs": [],
   "source": [
    "# to prevent reuters to be generated right after eg. washington because every article starts with \"[location] - reuters ...\"\n",
    "def filter_reuters(txt):\n",
    "    idx = txt.index('-')\n",
    "    return txt[idx+1:].strip()\n",
    "\n",
    "start_time = datetime.fromtimestamp(time.time())\n",
    "print(f'<{start_time}> training started on {device}')"
   ]
  },
  {
   "cell_type": "code",
   "execution_count": 54,
   "metadata": {},
   "outputs": [
    {
     "name": "stdout",
     "output_type": "stream",
     "text": [
      "<2023-05-25 13:55:56.145014> training started on cuda\n"
     ]
    },
    {
     "name": "stderr",
     "output_type": "stream",
     "text": [
      "d:\\dev\\bachelor\\deep_learning\\env_test\\.venv\\lib\\site-packages\\torchtext\\data\\utils.py:105: UserWarning: Spacy model \"en\" could not be loaded, trying \"en_core_web_sm\" instead\n",
      "  warnings.warn(\n"
     ]
    },
    {
     "name": "stdout",
     "output_type": "stream",
     "text": [
      "the head of a conservative republican faction in the u.s. congress, who voted this month for a huge \n",
      "the head of a conservative republican faction in the u.s. congress, who voted this month for a huge \n",
      "number of articles: 2000\n",
      "length of sentences: 4752429\n",
      "21319 unique tokens\n",
      "final length of word list: 21319\n"
     ]
    }
   ],
   "source": [
    "\n",
    "\n",
    "if play:\n",
    "    sentences = [ \"i like dog\", \"i like cat\", \"i like animal\", \n",
    "              \"dog cat animal\", \"apple cat dog like\", \"dog fish milk like\",\n",
    "              \"dog cat eyes like\", \"i like apple\", \"apple i hate\",\n",
    "              \"apple i movie\", \"book music like\", \"cat dog hate\", \"cat dog like\"]\n",
    "else:\n",
    "    df = pd.read_csv(\"./data/True.csv\")\n",
    "    nlp = spacy.load('en_core_web_sm')\n",
    "    tokenizer = tt.data.utils.get_tokenizer('spacy')\n",
    "    np_array = df['text'].values\n",
    "    txt_array = np_array.tolist()[0:corpus_size]\n",
    "    txt_array = [filter_reuters(txt) for txt in txt_array]\n",
    "    sentences = '\\n'.join(txt_array)\n",
    "    sentences = sentences.lower()\n",
    "\n",
    "number_match = re.compile('\\b.*[0-9].*\\b')\n",
    "punctuation_match = re.compile('\\b.*(\\.|\\\\|\\/|,\\/|\\(|\\)).*\\b')\n",
    "\n",
    "\n",
    "print(sentences[0:100])\n",
    "for sentence in sentences:\n",
    "    sentence = number_match.sub(repl=\"\", string=sentence)\n",
    "    sentence = punctuation_match.sub(repl=\"\", string=sentence)\n",
    "\n",
    "print(sentences[0:100])\n",
    "print(f'number of articles: {len(txt_array)}')\n",
    "print(f'length of sentences: {len(sentences)}')\n",
    "\n",
    "\n",
    "# list all the words present in our corpus\n",
    "word_sequence = tokenizer(sentences)\n",
    "word_list = list(set(word_sequence))\n",
    "\n",
    "print(f'{len(word_list)} unique tokens')\n",
    "\n",
    "# word_list = [word for word in word_list if not number_match.match(word)]\n",
    "# print(f'{len(word_list)} unique tokens after removing numbers')\n",
    "# word_list = [word for word in word_list if not punctuation_match.match(word)]\n",
    "# print(f'{len(word_list)} unique tokens after removing special characters')\n",
    "\n",
    "\n",
    "# print(word_sequence)\n",
    "# build the vocabulary\n",
    "print(f'final length of word list: {len(word_list)}')\n",
    "word_dict = {w: i for i, w in enumerate(word_list)}\n",
    "\n",
    "# print(word_dict)\n",
    "\n",
    "# Word2Vec Parameter\n",
    "batch_size = 5  # To show 2 dim embedding graph\n",
    "embedding_size = 2  # To show 2 dim embedding graph\n",
    "voc_size = len(word_list)"
   ]
  },
  {
   "cell_type": "code",
   "execution_count": 42,
   "metadata": {},
   "outputs": [],
   "source": [
    "# input word\n",
    "# j = 1\n",
    "# print(\"Input word : \")\n",
    "# print(word_sequence[j], word_dict[word_sequence[j]])\n",
    "\n",
    "# context words\n",
    "# print(\"Context words : \")\n",
    "# print(word_sequence[j - 1], word_sequence[j + 1])\n",
    "# print([word_dict[word_sequence[j - 1]], word_dict[word_sequence[j + 1]]])"
   ]
  },
  {
   "cell_type": "code",
   "execution_count": 55,
   "metadata": {},
   "outputs": [],
   "source": [
    "# Make skip gram of one size window\n",
    "window_size = 2\n",
    "skip_grams = []\n",
    "for i in range(1, len(word_sequence) - window_size):\n",
    "    input = word_dict[word_sequence[i]]\n",
    "    context = [word_dict[word_sequence[i - window_size]], word_dict[word_sequence[i + window_size]]]\n",
    "    for w in context:\n",
    "        skip_grams.append([input, w])\n",
    "\n",
    "\n",
    "#lets plot some data\n",
    "# skip_grams[:6]"
   ]
  },
  {
   "cell_type": "code",
   "execution_count": 56,
   "metadata": {},
   "outputs": [],
   "source": [
    "np.random.seed(172)\n",
    "\n",
    "def random_batch(data, size):\n",
    "    random_inputs = []\n",
    "    random_labels = []\n",
    "    random_index = np.random.choice(range(len(data)), size, replace=False)\n",
    "\n",
    "    for i in random_index:\n",
    "        # one-hot encoding of words\n",
    "        random_inputs.append(np.eye(voc_size)[data[i][0]])  # input\n",
    "        random_labels.append(data[i][1])  # context word\n",
    "\n",
    "    return random_inputs, random_labels\n",
    "\n",
    "# random_batch(skip_grams[:6], size=3)\n",
    "\n",
    "# inputs: like , i, dog , context: i, dog, i"
   ]
  },
  {
   "cell_type": "code",
   "execution_count": 57,
   "metadata": {},
   "outputs": [],
   "source": [
    "# Model\n",
    "class Word2Vec(nn.Module):\n",
    "    def __init__(self):\n",
    "        super(Word2Vec, self).__init__()\n",
    "\n",
    "        # parameters between -1 and + 1\n",
    "        self.W = nn.Parameter(-2 * torch.rand(voc_size, embedding_size) + 1).type(dtype).to(device) # voc_size -> embedding_size Weight\n",
    "        self.V = nn.Parameter(-2 * torch.rand(embedding_size, voc_size) + 1).type(dtype).to(device) # embedding_size -> voc_size Weight\n",
    "        \n",
    "        self.params = nn.ParameterList([self.W, self.V])\n",
    "\n",
    "    def forward(self, X):\n",
    "        hidden_layer = torch.matmul(X, self.params[0]) # hidden_layer : [batch_size, embedding_size]\n",
    "        output_layer = torch.matmul(hidden_layer, self.params[1]) # output_layer : [batch_size, voc_size]\n",
    "        #return output_layer \n",
    "        return output_layer\n",
    "\n",
    "model = Word2Vec()\n",
    "# Set the model in train mode\n",
    "model.train()\n",
    "\n",
    "criterion = nn.CrossEntropyLoss() # Softmax (for multi-class classification problems) is already included\n",
    "\n",
    "optimizer = optim.Adam(params=model.params, lr=0.001)"
   ]
  },
  {
   "cell_type": "code",
   "execution_count": 46,
   "metadata": {},
   "outputs": [
    {
     "name": "stdout",
     "output_type": "stream",
     "text": [
      "< 2023-05-25 11:44:40.772116 > Epoch: 10000 cost = 8.522721\n"
     ]
    }
   ],
   "source": [
    "# Training\n",
    "epochs = 10000\n",
    "print_freq = (epochs // 10) or 1\n",
    "all_losses = []\n",
    "avg_loss = 0\n",
    "for epoch in range(epochs):\n",
    "    input_batch, target_batch = random_batch(skip_grams, batch_size)\n",
    "\n",
    "    # new_tensor(data, dtype=None, device=None, requires_grad=False)\n",
    "    input_batch = torch.Tensor(input_batch).to(device)\n",
    "    target_batch = torch.LongTensor(target_batch).to(device)\n",
    "\n",
    "    optimizer.zero_grad()\n",
    "    output = model(input_batch)\n",
    "\n",
    "    # output : [batch_size, voc_size], target_batch : [batch_size] (LongTensor, not one-hot)\n",
    "    loss = criterion(output, target_batch)\n",
    "    avg_loss += loss.item()\n",
    "    if (epoch + 1)%print_freq == 0:\n",
    "        epoch_time = datetime.fromtimestamp(time.time())\n",
    "        # print('<', epoch_time, '> Epoch:', '%04d' % (epoch + 1), 'cost =', '{:.6f}'.format(loss))\n",
    "        all_losses.append(avg_loss / print_freq)\n",
    "        avg_loss = 0\n",
    "\n",
    "    loss.backward()\n",
    "    optimizer.step()\n",
    "time_done = datetime.fromtimestamp(time.time())\n",
    "print('<', time_done, '> Epoch:', '%04d' % (epoch + 1), 'cost =', '{:.6f}'.format(loss))"
   ]
  },
  {
   "cell_type": "code",
   "execution_count": 47,
   "metadata": {},
   "outputs": [
    {
     "data": {
      "text/plain": [
       "[<matplotlib.lines.Line2D at 0x28605cfef40>]"
      ]
     },
     "execution_count": 47,
     "metadata": {},
     "output_type": "execute_result"
    },
    {
     "data": {
      "image/png": "[encoded data removed]",
      "text/plain": [
       "<Figure size 640x480 with 1 Axes>"
      ]
     },
     "metadata": {},
     "output_type": "display_data"
    }
   ],
   "source": [
    "import matplotlib.pyplot as plt\n",
    "import matplotlib.ticker as ticker\n",
    "%matplotlib inline\n",
    "\n",
    "\n",
    "# print(all_losses)\n",
    "# matplotlib couldn't plot cuda tensors\n",
    "# first copy to host memory by loss.cpu() - then detach and to np array\n",
    "# losses_to_plot = [loss.cpu().detach().numpy() for loss in all_losses]\n",
    "# print(losses_to_plot)\n",
    "plt.figure()\n",
    "plt.plot(all_losses)"
   ]
  },
  {
   "cell_type": "code",
   "execution_count": 48,
   "metadata": {},
   "outputs": [
    {
     "name": "stdout",
     "output_type": "stream",
     "text": [
      "tensor([[ 0.4196,  0.1013],\n",
      "        [ 0.6157,  0.6807],\n",
      "        [ 1.1526,  0.7145],\n",
      "        ...,\n",
      "        [ 0.3505, -0.6393],\n",
      "        [-0.3730,  0.6283],\n",
      "        [ 0.8739,  0.7780]], device='cuda:0')\n"
     ]
    }
   ],
   "source": [
    "# Learned W\n",
    "W, _= model.parameters()\n",
    "print(W.detach())"
   ]
  },
  {
   "cell_type": "code",
   "execution_count": 49,
   "metadata": {},
   "outputs": [
    {
     "name": "stdout",
     "output_type": "stream",
     "text": [
      "training finished at: 2023-05-25 11:44:41.007086\n"
     ]
    }
   ],
   "source": [
    "file_path = f'./models/w2v_wsize_{window_size}_epocs_{epochs}.model'\n",
    "torch.save(model.state_dict(), file_path)\n",
    "\n",
    "end_time = datetime.fromtimestamp(time.time())\n",
    "print(f'training finished at: {end_time}')"
   ]
  },
  {
   "cell_type": "code",
   "execution_count": 50,
   "metadata": {},
   "outputs": [],
   "source": [
    "# for i, word in enumerate(word_list):\n",
    "#     W, _= model.parameters()\n",
    "#     W = W.detach()\n",
    "#     x,y = float(W[i][0]), float(W[i][1])\n",
    "#     plt.scatter(x, y)\n",
    "#     plt.annotate(word, xy=(x, y), xytext=(5, 2), textcoords='offset points', ha='right', va='bottom')\n",
    "# plt.show()"
   ]
  },
  {
   "cell_type": "code",
   "execution_count": 84,
   "metadata": {},
   "outputs": [
    {
     "name": "stdout",
     "output_type": "stream",
     "text": [
      "vocabulary size: 21319\n",
      "(-0.4104248285293579, 0.6316843032836914)\n"
     ]
    }
   ],
   "source": [
    "import pickle\n",
    "W, _ = model.parameters()\n",
    "W = W.detach()\n",
    "w2v = {}\n",
    "v2w = {}\n",
    "\n",
    "for i, word in enumerate(word_list):\n",
    "    W, _= model.parameters()\n",
    "    W = W.detach()\n",
    "    x,y = float(W[i][0]), float(W[i][1])\n",
    "    w2v[word]=(x,y)\n",
    "    v2w[(x,y)]=word\n",
    "\n",
    "print(f'vocabulary size: {len(word_list)}')\n",
    "\n",
    "print(w2v['process'])\n",
    "\n",
    "with open('./models/w2v.dat', 'wb') as f_path:\n",
    "    pickle.dump(w2v, f_path)\n",
    "\n",
    "with open('./models/v2w.dat', 'wb') as f_path:\n",
    "    pickle.dump(v2w, f_path)\n",
    "\n"
   ]
  },
  {
   "cell_type": "code",
   "execution_count": 87,
   "metadata": {},
   "outputs": [
    {
     "name": "stdout",
     "output_type": "stream",
     "text": [
      "trump\n"
     ]
    }
   ],
   "source": [
    "lookup_w2v = {}\n",
    "lookup_v2w = {}\n",
    "\n",
    "with open('./models/w2v.dat', 'rb') as f_path:\n",
    "    lookup_w2v = pickle.load(f_path)\n",
    "    \n",
    "\n",
    "with open('./models/v2w.dat', 'rb') as f_path:\n",
    "    lookup_v2w = pickle.load(f_path)\n",
    "    \n",
    "x,y = lookup_w2v['trump']\n",
    "trump = lookup_v2w[(x,y)]\n",
    "print(trump)\n",
    "\n",
    "# for k,v in lookup_v2w.items():\n",
    "#     print(f\"key: {k} value: {v}\")\n"
   ]
  }
 ],
 "metadata": {
  "kernelspec": {
   "display_name": ".venv",
   "language": "python",
   "name": "python3"
  },
  "language_info": {
   "codemirror_mode": {
    "name": "ipython",
    "version": 3
   },
   "file_extension": ".py",
   "mimetype": "text/x-python",
   "name": "python",
   "nbconvert_exporter": "python",
   "pygments_lexer": "ipython3",
   "version": "3.8.3"
  },
  "orig_nbformat": 4
 },
 "nbformat": 4,
 "nbformat_minor": 2
}
