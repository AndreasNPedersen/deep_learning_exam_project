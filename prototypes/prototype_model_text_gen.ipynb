{
  "cells": [
    {
      "cell_type": "code",
      "execution_count": 1,
      "metadata": {
        "_cell_guid": "b1076dfc-b9ad-4769-8c92-a6c4dae69d19",
        "_uuid": "8f2839f25d086af736a60e9eeb907d3b93b6e0e5",
        "colab": {
          "base_uri": "https://localhost:8080/"
        },
        "id": "GPmeGSJKpQNi",
        "outputId": "72e514fc-2589-4a3b-f268-520aa4af8240",
        "trusted": true
      },
      "outputs": [
        {
          "name": "stdout",
          "output_type": "stream",
          "text": [
            "Looking in indexes: https://pypi.org/simple, https://us-python.pkg.dev/colab-wheels/public/simple/\n",
            "Requirement already satisfied: keras-tuner in /usr/local/lib/python3.10/dist-packages (1.3.5)\n",
            "Requirement already satisfied: packaging in /usr/local/lib/python3.10/dist-packages (from keras-tuner) (23.1)\n",
            "Requirement already satisfied: requests in /usr/local/lib/python3.10/dist-packages (from keras-tuner) (2.27.1)\n",
            "Requirement already satisfied: kt-legacy in /usr/local/lib/python3.10/dist-packages (from keras-tuner) (1.0.5)\n",
            "Requirement already satisfied: urllib3<1.27,>=1.21.1 in /usr/local/lib/python3.10/dist-packages (from requests->keras-tuner) (1.26.15)\n",
            "Requirement already satisfied: certifi>=2017.4.17 in /usr/local/lib/python3.10/dist-packages (from requests->keras-tuner) (2022.12.7)\n",
            "Requirement already satisfied: charset-normalizer~=2.0.0 in /usr/local/lib/python3.10/dist-packages (from requests->keras-tuner) (2.0.12)\n",
            "Requirement already satisfied: idna<4,>=2.5 in /usr/local/lib/python3.10/dist-packages (from requests->keras-tuner) (3.4)\n"
          ]
        },
        {
          "name": "stderr",
          "output_type": "stream",
          "text": [
            "WARNING:tensorflow:From <ipython-input-1-d1e2f846b95a>:5: is_gpu_available (from tensorflow.python.framework.test_util) is deprecated and will be removed in a future version.\n",
            "Instructions for updating:\n",
            "Use `tf.config.list_physical_devices('GPU')` instead.\n"
          ]
        },
        {
          "name": "stdout",
          "output_type": "stream",
          "text": [
            "2.12.0\n",
            "True\n"
          ]
        }
      ],
      "source": [
        "# keras module for building LSTM \n",
        "import tensorflow as tf\n",
        "from keras_preprocessing.sequence import pad_sequences\n",
        "from keras.layers import Embedding, LSTM, Dense, Dropout, Bidirectional\n",
        "from keras_preprocessing.text import Tokenizer\n",
        "from keras.models import Sequential\n",
        "import keras.utils as ku \n",
        "import keras_tuner as kt\n",
        "# set seeds for reproducability\n",
        "\n",
        "from numpy.random import seed\n",
        "\n",
        "seed(1)\n",
        "\n",
        "import pandas as pd\n",
        "import numpy as np\n",
        "import string, os \n",
        "import matplotlib.pyplot as plt\n",
        "import warnings\n",
        "warnings.filterwarnings(\"ignore\")\n",
        "warnings.simplefilter(action='ignore', category=FutureWarning)"
      ]
    },
    {
      "attachments": {},
      "cell_type": "markdown",
      "metadata": {
        "_cell_guid": "79c7e3d0-c299-4dcb-8224-4455121ee9b0",
        "_uuid": "d629ff2d2480ee46fbb7e2d37f6b5fab8052498a",
        "id": "er1GxtS5pQNk"
      },
      "source": [
        "## Indlæs dataset"
      ]
    },
    {
      "cell_type": "code",
      "execution_count": 2,
      "metadata": {
        "_cell_guid": "b8ef1429-ff19-4a6c-92d7-af8cc61c55f7",
        "_uuid": "87836e3adbe046dd0db62013491ba62bae93b6be",
        "colab": {
          "base_uri": "https://localhost:8080/",
          "height": 641
        },
        "id": "5-kp6WlXpQNk",
        "outputId": "8123c8b3-7a13-462a-b474-d10c45b8b76a",
        "trusted": true
      },
      "outputs": [
        {
          "data": {
            "text/html": [
              "\n",
              "  <div id=\"df-3b9fa3f3-80ef-4bcb-a587-ebf479c57ed3\">\n",
              "    <div class=\"colab-df-container\">\n",
              "      <div>\n",
              "<style scoped>\n",
              "    .dataframe tbody tr th:only-of-type {\n",
              "        vertical-align: middle;\n",
              "    }\n",
              "\n",
              "    .dataframe tbody tr th {\n",
              "        vertical-align: top;\n",
              "    }\n",
              "\n",
              "    .dataframe thead th {\n",
              "        text-align: right;\n",
              "    }\n",
              "</style>\n",
              "<table border=\"1\" class=\"dataframe\">\n",
              "  <thead>\n",
              "    <tr style=\"text-align: right;\">\n",
              "      <th></th>\n",
              "      <th>title</th>\n",
              "      <th>text</th>\n",
              "      <th>subject</th>\n",
              "      <th>date</th>\n",
              "    </tr>\n",
              "  </thead>\n",
              "  <tbody>\n",
              "    <tr>\n",
              "      <th>0</th>\n",
              "      <td>Donald Trump Sends Out Embarrassing New Year’...</td>\n",
              "      <td>Donald Trump just couldn t wish all Americans ...</td>\n",
              "      <td>News</td>\n",
              "      <td>December 31, 2017</td>\n",
              "    </tr>\n",
              "    <tr>\n",
              "      <th>1</th>\n",
              "      <td>Drunk Bragging Trump Staffer Started Russian ...</td>\n",
              "      <td>House Intelligence Committee Chairman Devin Nu...</td>\n",
              "      <td>News</td>\n",
              "      <td>December 31, 2017</td>\n",
              "    </tr>\n",
              "    <tr>\n",
              "      <th>2</th>\n",
              "      <td>Sheriff David Clarke Becomes An Internet Joke...</td>\n",
              "      <td>On Friday, it was revealed that former Milwauk...</td>\n",
              "      <td>News</td>\n",
              "      <td>December 30, 2017</td>\n",
              "    </tr>\n",
              "    <tr>\n",
              "      <th>3</th>\n",
              "      <td>Trump Is So Obsessed He Even Has Obama’s Name...</td>\n",
              "      <td>On Christmas day, Donald Trump announced that ...</td>\n",
              "      <td>News</td>\n",
              "      <td>December 29, 2017</td>\n",
              "    </tr>\n",
              "    <tr>\n",
              "      <th>4</th>\n",
              "      <td>Pope Francis Just Called Out Donald Trump Dur...</td>\n",
              "      <td>Pope Francis used his annual Christmas Day mes...</td>\n",
              "      <td>News</td>\n",
              "      <td>December 25, 2017</td>\n",
              "    </tr>\n",
              "    <tr>\n",
              "      <th>...</th>\n",
              "      <td>...</td>\n",
              "      <td>...</td>\n",
              "      <td>...</td>\n",
              "      <td>...</td>\n",
              "    </tr>\n",
              "    <tr>\n",
              "      <th>21412</th>\n",
              "      <td>'Fully committed' NATO backs new U.S. approach...</td>\n",
              "      <td>BRUSSELS (Reuters) - NATO allies on Tuesday we...</td>\n",
              "      <td>worldnews</td>\n",
              "      <td>August 22, 2017</td>\n",
              "    </tr>\n",
              "    <tr>\n",
              "      <th>21413</th>\n",
              "      <td>LexisNexis withdrew two products from Chinese ...</td>\n",
              "      <td>LONDON (Reuters) - LexisNexis, a provider of l...</td>\n",
              "      <td>worldnews</td>\n",
              "      <td>August 22, 2017</td>\n",
              "    </tr>\n",
              "    <tr>\n",
              "      <th>21414</th>\n",
              "      <td>Minsk cultural hub becomes haven from authorities</td>\n",
              "      <td>MINSK (Reuters) - In the shadow of disused Sov...</td>\n",
              "      <td>worldnews</td>\n",
              "      <td>August 22, 2017</td>\n",
              "    </tr>\n",
              "    <tr>\n",
              "      <th>21415</th>\n",
              "      <td>Vatican upbeat on possibility of Pope Francis ...</td>\n",
              "      <td>MOSCOW (Reuters) - Vatican Secretary of State ...</td>\n",
              "      <td>worldnews</td>\n",
              "      <td>August 22, 2017</td>\n",
              "    </tr>\n",
              "    <tr>\n",
              "      <th>21416</th>\n",
              "      <td>Indonesia to buy $1.14 billion worth of Russia...</td>\n",
              "      <td>JAKARTA (Reuters) - Indonesia will buy 11 Sukh...</td>\n",
              "      <td>worldnews</td>\n",
              "      <td>August 22, 2017</td>\n",
              "    </tr>\n",
              "  </tbody>\n",
              "</table>\n",
              "<p>44898 rows × 4 columns</p>\n",
              "</div>\n",
              "      <button class=\"colab-df-convert\" onclick=\"convertToInteractive('df-3b9fa3f3-80ef-4bcb-a587-ebf479c57ed3')\"\n",
              "              title=\"Convert this dataframe to an interactive table.\"\n",
              "              style=\"display:none;\">\n",
              "        \n",
              "  <svg xmlns=\"http://www.w3.org/2000/svg\" height=\"24px\"viewBox=\"0 0 24 24\"\n",
              "       width=\"24px\">\n",
              "    <path d=\"M0 0h24v24H0V0z\" fill=\"none\"/>\n",
              "    <path d=\"M18.56 5.44l.94 2.06.94-2.06 2.06-.94-2.06-.94-.94-2.06-.94 2.06-2.06.94zm-11 1L8.5 8.5l.94-2.06 2.06-.94-2.06-.94L8.5 2.5l-.94 2.06-2.06.94zm10 10l.94 2.06.94-2.06 2.06-.94-2.06-.94-.94-2.06-.94 2.06-2.06.94z\"/><path d=\"M17.41 7.96l-1.37-1.37c-.4-.4-.92-.59-1.43-.59-.52 0-1.04.2-1.43.59L10.3 9.45l-7.72 7.72c-.78.78-.78 2.05 0 2.83L4 21.41c.39.39.9.59 1.41.59.51 0 1.02-.2 1.41-.59l7.78-7.78 2.81-2.81c.8-.78.8-2.07 0-2.86zM5.41 20L4 18.59l7.72-7.72 1.47 1.35L5.41 20z\"/>\n",
              "  </svg>\n",
              "      </button>\n",
              "      \n",
              "  <style>\n",
              "    .colab-df-container {\n",
              "      display:flex;\n",
              "      flex-wrap:wrap;\n",
              "      gap: 12px;\n",
              "    }\n",
              "\n",
              "    .colab-df-convert {\n",
              "      background-color: #E8F0FE;\n",
              "      border: none;\n",
              "      border-radius: 50%;\n",
              "      cursor: pointer;\n",
              "      display: none;\n",
              "      fill: #1967D2;\n",
              "      height: 32px;\n",
              "      padding: 0 0 0 0;\n",
              "      width: 32px;\n",
              "    }\n",
              "\n",
              "    .colab-df-convert:hover {\n",
              "      background-color: #E2EBFA;\n",
              "      box-shadow: 0px 1px 2px rgba(60, 64, 67, 0.3), 0px 1px 3px 1px rgba(60, 64, 67, 0.15);\n",
              "      fill: #174EA6;\n",
              "    }\n",
              "\n",
              "    [theme=dark] .colab-df-convert {\n",
              "      background-color: #3B4455;\n",
              "      fill: #D2E3FC;\n",
              "    }\n",
              "\n",
              "    [theme=dark] .colab-df-convert:hover {\n",
              "      background-color: #434B5C;\n",
              "      box-shadow: 0px 1px 3px 1px rgba(0, 0, 0, 0.15);\n",
              "      filter: drop-shadow(0px 1px 2px rgba(0, 0, 0, 0.3));\n",
              "      fill: #FFFFFF;\n",
              "    }\n",
              "  </style>\n",
              "\n",
              "      <script>\n",
              "        const buttonEl =\n",
              "          document.querySelector('#df-3b9fa3f3-80ef-4bcb-a587-ebf479c57ed3 button.colab-df-convert');\n",
              "        buttonEl.style.display =\n",
              "          google.colab.kernel.accessAllowed ? 'block' : 'none';\n",
              "\n",
              "        async function convertToInteractive(key) {\n",
              "          const element = document.querySelector('#df-3b9fa3f3-80ef-4bcb-a587-ebf479c57ed3');\n",
              "          const dataTable =\n",
              "            await google.colab.kernel.invokeFunction('convertToInteractive',\n",
              "                                                     [key], {});\n",
              "          if (!dataTable) return;\n",
              "\n",
              "          const docLinkHtml = 'Like what you see? Visit the ' +\n",
              "            '<a target=\"_blank\" href=https://colab.research.google.com/notebooks/data_table.ipynb>data table notebook</a>'\n",
              "            + ' to learn more about interactive tables.';\n",
              "          element.innerHTML = '';\n",
              "          dataTable['output_type'] = 'display_data';\n",
              "          await google.colab.output.renderOutput(dataTable, element);\n",
              "          const docLink = document.createElement('div');\n",
              "          docLink.innerHTML = docLinkHtml;\n",
              "          element.appendChild(docLink);\n",
              "        }\n",
              "      </script>\n",
              "    </div>\n",
              "  </div>\n",
              "  "
            ],
            "text/plain": [
              "                                                   title  \\\n",
              "0       Donald Trump Sends Out Embarrassing New Year’...   \n",
              "1       Drunk Bragging Trump Staffer Started Russian ...   \n",
              "2       Sheriff David Clarke Becomes An Internet Joke...   \n",
              "3       Trump Is So Obsessed He Even Has Obama’s Name...   \n",
              "4       Pope Francis Just Called Out Donald Trump Dur...   \n",
              "...                                                  ...   \n",
              "21412  'Fully committed' NATO backs new U.S. approach...   \n",
              "21413  LexisNexis withdrew two products from Chinese ...   \n",
              "21414  Minsk cultural hub becomes haven from authorities   \n",
              "21415  Vatican upbeat on possibility of Pope Francis ...   \n",
              "21416  Indonesia to buy $1.14 billion worth of Russia...   \n",
              "\n",
              "                                                    text    subject  \\\n",
              "0      Donald Trump just couldn t wish all Americans ...       News   \n",
              "1      House Intelligence Committee Chairman Devin Nu...       News   \n",
              "2      On Friday, it was revealed that former Milwauk...       News   \n",
              "3      On Christmas day, Donald Trump announced that ...       News   \n",
              "4      Pope Francis used his annual Christmas Day mes...       News   \n",
              "...                                                  ...        ...   \n",
              "21412  BRUSSELS (Reuters) - NATO allies on Tuesday we...  worldnews   \n",
              "21413  LONDON (Reuters) - LexisNexis, a provider of l...  worldnews   \n",
              "21414  MINSK (Reuters) - In the shadow of disused Sov...  worldnews   \n",
              "21415  MOSCOW (Reuters) - Vatican Secretary of State ...  worldnews   \n",
              "21416  JAKARTA (Reuters) - Indonesia will buy 11 Sukh...  worldnews   \n",
              "\n",
              "                    date  \n",
              "0      December 31, 2017  \n",
              "1      December 31, 2017  \n",
              "2      December 30, 2017  \n",
              "3      December 29, 2017  \n",
              "4      December 25, 2017  \n",
              "...                  ...  \n",
              "21412   August 22, 2017   \n",
              "21413   August 22, 2017   \n",
              "21414   August 22, 2017   \n",
              "21415   August 22, 2017   \n",
              "21416   August 22, 2017   \n",
              "\n",
              "[44898 rows x 4 columns]"
            ]
          },
          "execution_count": 2,
          "metadata": {},
          "output_type": "execute_result"
        }
      ],
      "source": [
        "\n",
        "df = pd.read_csv('./data/Fake.csv')\n",
        "df2 = pd.read_csv('./data/True.csv')\n",
        "df.append(df2)\n"
      ]
    },
    {
      "attachments": {},
      "cell_type": "markdown",
      "metadata": {
        "id": "Ip0_CrfSpQNm"
      },
      "source": [
        "# Data Preprocessing"
      ]
    },
    {
      "cell_type": "code",
      "execution_count": 3,
      "metadata": {
        "colab": {
          "base_uri": "https://localhost:8080/"
        },
        "id": "Me0le-3lpQNm",
        "outputId": "6e6dbe50-4f70-4e3d-fc08-756e41f3e46d"
      },
      "outputs": [
        {
          "name": "stdout",
          "output_type": "stream",
          "text": [
            "        text\n",
            "0      False\n",
            "1      False\n",
            "2      False\n",
            "3      False\n",
            "4      False\n",
            "...      ...\n",
            "23476  False\n",
            "23477  False\n",
            "23478  False\n",
            "23479  False\n",
            "23480  False\n",
            "\n",
            "[23481 rows x 1 columns]\n",
            "[['Here s what Politico s headline today looked like:Here s what the leftist anti-American rag Politico had to say about Angela Merkel s visit to the US to meet with our new President Donald Trump: This time the media hype surrounding a White House meeting is no wild exaggeration. When President Donald Trump and German Chancellor Angela Merkel finally get together on Friday, the leaders of the West s two most powerful countries are sure to come off more like an odd couple than two close allies chewing over plans for some joint enterprise. And for good reason. Merkel and Trump are not only polar opposites as people, but they share little in terms of international outlook.Their styles reflect their vastly different backgrounds. Merkel, Germany s first and only female chancellor, was raised by a pastor in communist East Germany, where she earned a doctorate in physical chemistry. Although she is the longest-serving and most powerful leader in Europe, she is unfailingly modest, competent and consensus-oriented. Trump s all-about-me mentality, Queens upbringing and brash, tabloid-and-reality-TV personality couldn t be more different. Could one even imagine the outrage if a piece like this was published about Barack Obama within his first 60 days in office? The mentality of the unhinged left is on display for every American to see and if they keep this up, even for a few more months, they will never win another election. Here s how Nigel Farage, the British rock star who was behind  Brexit  feels about Merkel s visit to the White House:  https://www.youtube.com/watch?v=EqnCkSYLDgQ']\n",
            " ['Who is Paul Manafort? Well, for starters, he s a former principal lobbyist with the firm Black, Manafort, Stone and Kelly (BMS & K), a firm that had close ties to the Reagan and Bush White House and works closely with Republicans on Capitol Hill.But that s not where the firm has made most of its money. Before merging with Gold & Liebengood to form BKSH & Associates in 1996,  BMS & K was renowned for representing a multitude of sketchy African dictators, warlords, guerilla warfare groups and individuals responsible for the most reprehensible human rights violations in the world.One of their most notorious  clients  was Angolan war lord Jonas Savimbi, who oversaw what The Daily Beast documents as mass-amputation of those they deemed the enemy, and state-sanctioned rape. Savimbi and his guerilla army sought to take back control of the Marxist dominated, Soviet Union backed government in Angola through UNITA (National Union for the Total Independence of Angola). A bloody civil war, over two hundred people died a day, and Manafort s lobbying firm oversaw a  negotiations for the continuation of warfare. Senator Bill Bradley, in his memoirs, noted that had it not been for Manafort s heavy lobbying, a ceasefire would have been reached sooner.As John Prendergast wrote in a 1999 essay for the United States Institute of Peace:The government s branding of Jonas Savimbi as a war criminal creates a thin but important precedent for reversing the state of total impunity that exists presently. Savimbi is indeed responsible for a litany of crimes against humanity, but of course he is not alone The Human Rights Watch documented the horrors of child soldiers at he hands of Savimbi, writing that those forced into the guerilla warfare were robbed of their childhood and forced to fight in one of the most violent civil wars in world history:Both the largest opposition group, National Union for the Total Independence of Angola (UNITA), and the government used child soldiers in the war. Children s rights groups have estimated that as many as 11,000 children were involved in the last years of the fighting. Some children received weapons and arms training and fought in the conflict. Many others acted as porters, cooks, spies and laborers .UNITA soldiers regularly beat children for infractions and assigned them hazardous duties. UNITA combatants also sexually abused girls and assigned them as  wives  to soldiers.Now where did Manafort come into play? Well, Savimbi courted his lobbying firm to get United States leaders on board with the coup (after all, the United States was still heavily invested in the Cold War). And through their lobbying efforts quickly got President Reagan and Congressional Republicans to convince the CIA and other American intelligence agencies like the State Department to fund and support Savimbi.Between 1985 and 1989, Savimbi and UNITA paid Manafort and his associates over $850,000 while the United States supplied $42 million for their efforts.Even though using child soldiers was (and still is) banned by International law and Angolan law, the  freedom fighters  (as Reagan called them) were still in the business of heavy exploitation. And Manafort and his associates didn t care, so long as they got their paycheck.And now he s an advisor to Donald Trump. Any questions?Featured image via Eduardo Munoz Alvarez/Getty Images']\n",
            " ['Liberals  internal struggle in one clip: .@andersoncooper on the level, .@SenWarren name-calling. #Bannon https://t.co/pX6TzNeRCP  William Bairamian (@Bairamian) December 1, 2016']\n",
            " ['It s no accident that President Obama named Vanita Gupta acting head of the Civil Rights Division of the DOJ. Gupta is beloved by the radical left for her militant hostility toward law enforcement officers. Here s a fantastic overview from J. Christian Adams who has intimate knowledge of what s going on at the DOJ. He worked  there and knows just how the DOJ has been turned into a politicized radical leftist entity of the Obama administration. Here s an example of that:Vanita Gupta, head of the Department of Justice Civil Rights Division, has told a lawyers group in Colorado that slavery and Jim Crow helped fuel the Ferguson and Baltimore riots.The last few days have seen a number of fanciful stories with the Obama administration seemingly questioning the authority of local police. I ve long maintained that the administration is nakedly seeking to federalize policing standards   but get rid of local police? No way, that sounds like something broadcast from a shortwave station in Austin, Texas. But then up steps Vanita Gupta to lend some credibility to the idea that some want to disband local police and replace police powers with the federal government. Speaking to a group of left-wing lawyers in Colorado, Gupta had this to say:The conversation in these rooms, however, is not about whether to have police or not but about what kind of policing communities want and deserve.There is no question that we need police in our communities.The conversation? What conversation is Gupta hearing that needs to be corrected? Who brought up the idea we might not need police? Nobody sane, for sure.If you read the entirety of Gupta s speech, you ll get a sense of what is going on in the mind of the anti-police left. Officials in this administration still think it is rational and acceptable to bring up the name Michael Brown in the context of anything other than a likely felon against whom deadly force was justifiably used. Behold Gupta:Eric Garner. Michael Brown. Tamir Rice. John Crawford. Walter Scott. Freddie Gray.These names and many others have become familiar to us under tragic circumstances in recent months. Their deaths and those of other unarmed African American men and women in encounters with police officers, have provoked widespread responses across the country and have fueled the Black Lives Matter movement. In communities of color, in particular, the reaction has been stark and sobering.In the seven months I have been at the Civil Rights Division, I have spent a lot of time with local leaders and community members in cities all across America, including with numerous mothers who have lost their children in officer-involved shootings. The pain, anger, frustration   the lack of trust in the police   is real, and it is profound.Gupta asks the question that many Americans have already asked and answered:It s worth asking, first, how did we get here? And second, what are we going to do about it?To most law-abiding Americans, the idea of fleeing from the police, or worse, charging at a policeman you have already punched, is simply beyond the realm of possibility.So how did we get here? Was it a breakdown of values? Perhaps a pervasive tolerance for lawlessness? Of course not. Says Gupta:Let s start with the first question and consider the source of the mistrust. Mistrust can t be explained away as the kneejerk reaction of the ill-informed or the hyperbolic. It s in part the product of historical awareness about the role that police have played in enforcing and perpetuating (wait for it! here it comes!) slavery, the Black Codes, lynchings and Jim Crow segregation.Read more: pjmediaRead more: pjmedia']\n",
            " ['We ve heard about Hillary Clinton s bad behavior before but this tell-all book goes right into details of what Clinton was like as First Lady  Hillary Clinton has a  Jekyll and Hyde  personality that left White House staffers scared stiff of her explosive   and even physical   outbursts, an ex-Secret Service officer claims in a scathing new tell-all.Gary Byrne, who was posted outside the Oval Office when Bill Clinton was president, portrays Hillary as too  erratic, uncontrollable and occasionally violent  to become leader of the free world, according to advance promotional materials exclusively obtained by Page Six.The allegations from Byrne, a 29-year veteran of the military and federal law enforcement, threaten to derail her campaign days before she is expected to clinch the Democratic presidential nomination.He describes Hillary Clinton as acting friendly one moment, then raging the next. What I saw in the 1990s sickened me,  he writes in the intro of the book,  Crisis of Character: A White House Secret Service Officer Discloses his Firsthand Experience with Hillary, Bill, and How They Operate. The book claims she repeatedly screamed obscenities at her husband, Secret Service personnel and White House staffers   all of whom lived in terror of her next tirade.Secret Service agents had discussions about the possibility that they would have to protect Bill from his wife s physical attacks, Byrne writes, and the couple had one  violent encounter  the morning of a key presidential address to the nation.Meanwhile, a paranoid Hillary Clinton tried to have the Secret Service banned from the White House and once tried to ditch her security detail, Byrne says. Hillary Clinton is now poised to become the Democratic nominee for president of the United States, but she simply lacks the integrity and temperament to serve in the office,  he writes.LINDA TRIPP WEIGHS IN ON HILLARY S DAYS AS FIRST LADY AFTER TWENTY YEARS OF SILENCE:Linda Tripp, who once was a White House aide with an office next to Hillary s spoke to the Daily Mail exclusively. She labeled Hillary Clinton a  destroyer  who stopped at nothing to crush the women who were linked sexually to Bill Clinton over the years. His efforts were so terrifying and unethical, and Tripp believes Hillary must be stopped from becoming President at all costs!It was the scandal that saw Bill Clinton impeached and which threatened to bring down his presidency. For many, it continues to define it to this day.But according to the woman who outed Monica Lewinsky as the president s mistress, the real story was never about Monica. It was about  subornation of perjury, obstruction of justice  a true abuse of power.  And it was about Hillary.Because, according to Linda Tripp, it was Hillary who manipulated and stage managed the story, converting herself from a lackluster First Lady with unimpressive approval ratings to admirable First Victim   the blindsided wife standing by her man.She made him forgivable. She  orchestrated the cover up  and she made damn sure that she moved on. Nothing, and no-one, was going to stand in her way.Linda Tripp, whose recorded conversations with Lewinsky   submitted to independent counsel Kenneth Starr   exposed the truth of the affair that both Lewinsky and Clinton had sought to deny, has never spoken fully until now. She noted what we all are thinking   Hillary was really in charge of the Clinton White House, because she would stop at nothing to get her way:She describes Hillary as the true  ruler  of the White House through her husband s administration; tells how she watched Hillary  blatantly lie  to the American people; describes her as utterly  ruthless  in her pursuit of power; and voices her belief that Hillary must never gain the presidency   the position that has always been her goal and to which she has always believed herself entitled. READ MORE: Political InsiderVia: NYP']]\n"
          ]
        }
      ],
      "source": [
        "df = df.drop(['title','subject','date'], axis=1)\n",
        "df['text'] = df.sample(frac=1, random_state=1).values #Randomize the two dataframes\n",
        "df = df.dropna(subset=['text'])\n",
        "len(df.values)\n",
        "print(df.isna())\n",
        "print(df.values[:5])"
      ]
    },
    {
      "attachments": {},
      "cell_type": "markdown",
      "metadata": {
        "_cell_guid": "9dbd8bc9-fb61-43b9-b0c4-98bd7f3f8150",
        "_uuid": "fda5d4868631d3618d4d9a9a863541b2faf121c0",
        "id": "kkT4tprlpQNn"
      },
      "source": [
        "## Dataset preparation "
      ]
    },
    {
      "cell_type": "code",
      "execution_count": 4,
      "metadata": {
        "_cell_guid": "b8bf84ed-da11-4f89-a584-9dceea677420",
        "_uuid": "2a07365a27a7ba2f92fc9ba4d05d8e6254a68d8c",
        "colab": {
          "base_uri": "https://localhost:8080/"
        },
        "id": "FQL5-gcypQNo",
        "outputId": "4dbb0d92-6037-4e23-96eb-1b4df1ad6396",
        "trusted": true
      },
      "outputs": [
        {
          "data": {
            "text/plain": [
              "['here s what politico s headline today looked like:here s what the leftist anti-american rag politico had to say about angela merkel s visit to the us to meet with our new president donald trump: this time the media hype surrounding a white house meeting is no wild exaggeration. when president donald trump and german chancellor angela merkel finally get together on friday, the leaders of the west s two most powerful countries are sure to come off more like an odd couple than two close allies chewing over plans for some joint enterprise. and for good reason. merkel and trump are not only polar opposites as people, but they share little in terms of international outlook.their styles reflect their vastly different backgrounds. merkel, germany s first and only female chancellor, was raised by a pastor in communist east germany, where she earned a doctorate in physical chemistry. although she is the longest-serving and most powerful leader in europe, she is unfailingly modest, competent and consensus-oriented. trump s all-about-me mentality, queens upbringing and brash, tabloid-and-reality-tv personality couldn t be more different. could one even imagine the outrage if a piece like this was published about barack obama within his first 60 days in office? the mentality of the unhinged left is on display for every american to see and if they keep this up, even for a few more months, they will never win another election. here s how nigel farage, the british rock star who was behind  brexit  feels about merkel s visit to the white house:  https://www.youtube.com/watch?v=eqncksyldgq',\n",
              " 'who is paul manafort? well, for starters, he s a former principal lobbyist with the firm black, manafort, stone and kelly (bms & k), a firm that had close ties to the reagan and bush white house and works closely with republicans on capitol hill.but that s not where the firm has made most of its money. before merging with gold & liebengood to form bksh & associates in 1996,  bms & k was renowned for representing a multitude of sketchy african dictators, warlords, guerilla warfare groups and individuals responsible for the most reprehensible human rights violations in the world.one of their most notorious  clients  was angolan war lord jonas savimbi, who oversaw what the daily beast documents as mass-amputation of those they deemed the enemy, and state-sanctioned rape. savimbi and his guerilla army sought to take back control of the marxist dominated, soviet union backed government in angola through unita (national union for the total independence of angola). a bloody civil war, over two hundred people died a day, and manafort s lobbying firm oversaw a  negotiations for the continuation of warfare. senator bill bradley, in his memoirs, noted that had it not been for manafort s heavy lobbying, a ceasefire would have been reached sooner.as john prendergast wrote in a 1999 essay for the united states institute of peace:the government s branding of jonas savimbi as a war criminal creates a thin but important precedent for reversing the state of total impunity that exists presently. savimbi is indeed responsible for a litany of crimes against humanity, but of course he is not alone the human rights watch documented the horrors of child soldiers at he hands of savimbi, writing that those forced into the guerilla warfare were robbed of their childhood and forced to fight in one of the most violent civil wars in world history:both the largest opposition group, national union for the total independence of angola (unita), and the government used child soldiers in the war. children s rights groups have estimated that as many as 11,000 children were involved in the last years of the fighting. some children received weapons and arms training and fought in the conflict. many others acted as porters, cooks, spies and laborers .unita soldiers regularly beat children for infractions and assigned them hazardous duties. unita combatants also sexually abused girls and assigned them as  wives  to soldiers.now where did manafort come into play? well, savimbi courted his lobbying firm to get united states leaders on board with the coup (after all, the united states was still heavily invested in the cold war). and through their lobbying efforts quickly got president reagan and congressional republicans to convince the cia and other american intelligence agencies like the state department to fund and support savimbi.between 1985 and 1989, savimbi and unita paid manafort and his associates over $850,000 while the united states supplied $42 million for their efforts.even though using child soldiers was (and still is) banned by international law and angolan law, the  freedom fighters  (as reagan called them) were still in the business of heavy exploitation. and manafort and his associates didn t care, so long as they got their paycheck.and now he s an advisor to donald trump. any questions?featured image via eduardo munoz alvarez/getty images',\n",
              " 'liberals  internal struggle in one clip: .@andersoncooper on the level, .@senwarren name-calling. #bannon https://t.co/px6tznercp  william bairamian (@bairamian) december 1, 2016',\n",
              " 'it s no accident that president obama named vanita gupta acting head of the civil rights division of the doj. gupta is beloved by the radical left for her militant hostility toward law enforcement officers. here s a fantastic overview from j. christian adams who has intimate knowledge of what s going on at the doj. he worked  there and knows just how the doj has been turned into a politicized radical leftist entity of the obama administration. here s an example of that:vanita gupta, head of the department of justice civil rights division, has told a lawyers group in colorado that slavery and jim crow helped fuel the ferguson and baltimore riots.the last few days have seen a number of fanciful stories with the obama administration seemingly questioning the authority of local police. i ve long maintained that the administration is nakedly seeking to federalize policing standards   but get rid of local police? no way, that sounds like something broadcast from a shortwave station in austin, texas. but then up steps vanita gupta to lend some credibility to the idea that some want to disband local police and replace police powers with the federal government. speaking to a group of left-wing lawyers in colorado, gupta had this to say:the conversation in these rooms, however, is not about whether to have police or not but about what kind of policing communities want and deserve.there is no question that we need police in our communities.the conversation? what conversation is gupta hearing that needs to be corrected? who brought up the idea we might not need police? nobody sane, for sure.if you read the entirety of gupta s speech, you ll get a sense of what is going on in the mind of the anti-police left. officials in this administration still think it is rational and acceptable to bring up the name michael brown in the context of anything other than a likely felon against whom deadly force was justifiably used. behold gupta:eric garner. michael brown. tamir rice. john crawford. walter scott. freddie gray.these names and many others have become familiar to us under tragic circumstances in recent months. their deaths and those of other unarmed african american men and women in encounters with police officers, have provoked widespread responses across the country and have fueled the black lives matter movement. in communities of color, in particular, the reaction has been stark and sobering.in the seven months i have been at the civil rights division, i have spent a lot of time with local leaders and community members in cities all across america, including with numerous mothers who have lost their children in officer-involved shootings. the pain, anger, frustration   the lack of trust in the police   is real, and it is profound.gupta asks the question that many americans have already asked and answered:it s worth asking, first, how did we get here? and second, what are we going to do about it?to most law-abiding americans, the idea of fleeing from the police, or worse, charging at a policeman you have already punched, is simply beyond the realm of possibility.so how did we get here? was it a breakdown of values? perhaps a pervasive tolerance for lawlessness? of course not. says gupta:let s start with the first question and consider the source of the mistrust. mistrust can t be explained away as the kneejerk reaction of the ill-informed or the hyperbolic. it s in part the product of historical awareness about the role that police have played in enforcing and perpetuating (wait for it! here it comes!) slavery, the black codes, lynchings and jim crow segregation.read more: pjmediaread more: pjmedia',\n",
              " 'we ve heard about hillary clinton s bad behavior before but this tell-all book goes right into details of what clinton was like as first lady  hillary clinton has a  jekyll and hyde  personality that left white house staffers scared stiff of her explosive   and even physical   outbursts, an ex-secret service officer claims in a scathing new tell-all.gary byrne, who was posted outside the oval office when bill clinton was president, portrays hillary as too  erratic, uncontrollable and occasionally violent  to become leader of the free world, according to advance promotional materials exclusively obtained by page six.the allegations from byrne, a 29-year veteran of the military and federal law enforcement, threaten to derail her campaign days before she is expected to clinch the democratic presidential nomination.he describes hillary clinton as acting friendly one moment, then raging the next. what i saw in the 1990s sickened me,  he writes in the intro of the book,  crisis of character: a white house secret service officer discloses his firsthand experience with hillary, bill, and how they operate. the book claims she repeatedly screamed obscenities at her husband, secret service personnel and white house staffers   all of whom lived in terror of her next tirade.secret service agents had discussions about the possibility that they would have to protect bill from his wife s physical attacks, byrne writes, and the couple had one  violent encounter  the morning of a key presidential address to the nation.meanwhile, a paranoid hillary clinton tried to have the secret service banned from the white house and once tried to ditch her security detail, byrne says. hillary clinton is now poised to become the democratic nominee for president of the united states, but she simply lacks the integrity and temperament to serve in the office,  he writes.linda tripp weighs in on hillary s days as first lady after twenty years of silence:linda tripp, who once was a white house aide with an office next to hillary s spoke to the daily mail exclusively. she labeled hillary clinton a  destroyer  who stopped at nothing to crush the women who were linked sexually to bill clinton over the years. his efforts were so terrifying and unethical, and tripp believes hillary must be stopped from becoming president at all costs!it was the scandal that saw bill clinton impeached and which threatened to bring down his presidency. for many, it continues to define it to this day.but according to the woman who outed monica lewinsky as the president s mistress, the real story was never about monica. it was about  subornation of perjury, obstruction of justice  a true abuse of power.  and it was about hillary.because, according to linda tripp, it was hillary who manipulated and stage managed the story, converting herself from a lackluster first lady with unimpressive approval ratings to admirable first victim   the blindsided wife standing by her man.she made him forgivable. she  orchestrated the cover up  and she made damn sure that she moved on. nothing, and no-one, was going to stand in her way.linda tripp, whose recorded conversations with lewinsky   submitted to independent counsel kenneth starr   exposed the truth of the affair that both lewinsky and clinton had sought to deny, has never spoken fully until now. she noted what we all are thinking   hillary was really in charge of the clinton white house, because she would stop at nothing to get her way:she describes hillary as the true  ruler  of the white house through her husband s administration; tells how she watched hillary  blatantly lie  to the american people; describes her as utterly  ruthless  in her pursuit of power; and voices her belief that hillary must never gain the presidency   the position that has always been her goal and to which she has always believed herself entitled. read more: political insidervia: nyp']"
            ]
          },
          "execution_count": 4,
          "metadata": {},
          "output_type": "execute_result"
        }
      ],
      "source": [
        "def clean_text(txt):\n",
        "    txt = \"\".join(v for v in txt if v not in string.punctuation).lower()\n",
        "    txt = txt.encode(\"utf8\").decode(\"ascii\",'ignore')\n",
        "    return txt \n",
        "\n",
        "corpus = [clean_text(x) for x in df.values]\n",
        "corpus = corpus[:25]\n",
        "corpus[:5]\n"
      ]
    },
    {
      "cell_type": "code",
      "execution_count": 5,
      "metadata": {
        "_cell_guid": "896543c9-7944-4748-b8ef-ef8cbc2a84f0",
        "_uuid": "9129a8b773feb72eff91aa0025157a173d10c625",
        "colab": {
          "base_uri": "https://localhost:8080/"
        },
        "id": "CMXkeFfSpQNo",
        "outputId": "fc7cf4e1-12a3-4bde-a8f9-e3c08fad098f",
        "trusted": true
      },
      "outputs": [
        {
          "name": "stdout",
          "output_type": "stream",
          "text": [
            "train tokenized output: [[94, 8], [94, 8, 21], [94, 8, 21, 610], [94, 8, 21, 610, 8], [94, 8, 21, 610, 8, 1020], [94, 8, 21, 610, 8, 1020, 611], [94, 8, 21, 610, 8, 1020, 611, 612], [94, 8, 21, 610, 8, 1020, 611, 612, 47], [94, 8, 21, 610, 8, 1020, 611, 612, 47, 94], [94, 8, 21, 610, 8, 1020, 611, 612, 47, 94, 8]]\n"
          ]
        },
        {
          "data": {
            "text/plain": [
              "[[94, 8],\n",
              " [94, 8, 21],\n",
              " [94, 8, 21, 610],\n",
              " [94, 8, 21, 610, 8],\n",
              " [94, 8, 21, 610, 8, 1020],\n",
              " [94, 8, 21, 610, 8, 1020, 611],\n",
              " [94, 8, 21, 610, 8, 1020, 611, 612],\n",
              " [94, 8, 21, 610, 8, 1020, 611, 612, 47],\n",
              " [94, 8, 21, 610, 8, 1020, 611, 612, 47, 94],\n",
              " [94, 8, 21, 610, 8, 1020, 611, 612, 47, 94, 8]]"
            ]
          },
          "execution_count": 5,
          "metadata": {},
          "output_type": "execute_result"
        }
      ],
      "source": [
        "tokenizer = Tokenizer()\n",
        "\n",
        "def get_sequence_of_tokens(corpus):\n",
        "    ## tokenization\n",
        "    tokenizer.fit_on_texts(corpus)\n",
        "    total_words = len(tokenizer.word_index) + 1\n",
        "    \n",
        "    ## convert data to sequence of tokens \n",
        "    input_sequences = []\n",
        "    for line in corpus:\n",
        "        token_list = tokenizer.texts_to_sequences([line])[0]\n",
        "        for i in range(1, len(token_list)):\n",
        "            n_gram_sequence = token_list[:i+1]\n",
        "            input_sequences.append(n_gram_sequence)\n",
        "    return input_sequences, total_words\n",
        "\n",
        "inp_sequences_train, total_words_train = get_sequence_of_tokens(corpus)\n",
        "\n",
        "\n",
        "print(\"train tokenized output:\",inp_sequences_train[:10])\n",
        "#pretty tabel visualized\n",
        "inp_sequences_train[:10]"
      ]
    },
    {
      "cell_type": "code",
      "execution_count": 6,
      "metadata": {
        "_cell_guid": "73254551-40bd-45b1-a7a5-88fe4cbe0b20",
        "_uuid": "ca588b414e70e21bebcead960f6632805d37dd8c",
        "id": "Njl2qvwUpQNp",
        "trusted": true
      },
      "outputs": [],
      "source": [
        "def generate_padded_sequences(input_sequences,total_words):\n",
        "    max_sequence_len = max([len(x) for x in input_sequences])\n",
        "    input_sequences = np.array(pad_sequences(input_sequences, maxlen=max_sequence_len, padding='pre'))\n",
        "    \n",
        "    predictors, label = input_sequences[:,:-1],input_sequences[:,-1]\n",
        "    label = ku.to_categorical(label, num_classes=total_words)\n",
        "    return predictors, label, max_sequence_len\n",
        "\n"
      ]
    },
    {
      "attachments": {},
      "cell_type": "markdown",
      "metadata": {
        "id": "fcAsktGQpQNq"
      },
      "source": [
        "#### padded sekvens data\n"
      ]
    },
    {
      "cell_type": "code",
      "execution_count": 7,
      "metadata": {
        "colab": {
          "base_uri": "https://localhost:8080/"
        },
        "id": "P-zs14RopQNr",
        "outputId": "73d3b44c-089e-4275-b7d7-17abdd2c2663"
      },
      "outputs": [
        {
          "name": "stdout",
          "output_type": "stream",
          "text": [
            "(9154, 983)\n",
            "(9154, 2604)\n"
          ]
        },
        {
          "data": {
            "text/plain": [
              "array([[   0,    0,    0, ...,    0,    0,   94],\n",
              "       [   0,    0,    0, ...,    0,   94,    8],\n",
              "       [   0,    0,    0, ...,   94,    8,   21],\n",
              "       ...,\n",
              "       [   0,    0,    0, ..., 1020,  611,  612],\n",
              "       [   0,    0,    0, ...,  611,  612,   47],\n",
              "       [   0,    0,    0, ...,  612,   47,   94]], dtype=int32)"
            ]
          },
          "execution_count": 7,
          "metadata": {},
          "output_type": "execute_result"
        }
      ],
      "source": [
        "predictors_train, label_train, max_sequence_len_train = generate_padded_sequences(inp_sequences_train,total_words_train)\n",
        "print(predictors_train.shape)\n",
        "\n",
        "print(label_train.shape)\n",
        "predictors_train[:10]\n"
      ]
    },
    {
      "attachments": {},
      "cell_type": "markdown",
      "metadata": {},
      "source": [
        "# Undersægelse på den rigtige Model"
      ]
    },
    {
      "attachments": {},
      "cell_type": "markdown",
      "metadata": {},
      "source": [
        "## Test af Model RNN"
      ]
    },
    {
      "cell_type": "code",
      "execution_count": null,
      "metadata": {},
      "outputs": [],
      "source": [
        "def create_model(max_sequence_len, total_words, lr, hidden,dropout):\n",
        "    input_len = max_sequence_len - 1\n",
        "    model = Sequential()\n",
        "    \n",
        "    model.add(Embedding(total_words, 20, input_length=input_len))\n",
        "\n",
        "    model.add(SimpleRNN(hidden)) \n",
        "    model.add(Dropout(dropout))\n",
        "    \n",
        "    model.add(Dense(total_words, activation='softmax')) \n",
        "\n",
        "    model.compile(\n",
        "     optimizer=keras.optimizers.Adam(learning_rate=lr),  \n",
        "    loss=\"categorical_crossentropy\", \n",
        "    metrics=[keras.metrics.CategoricalAccuracy(), \n",
        "    keras.metrics.MeanAbsoluteError()], \n",
        "    )\n",
        "    \n",
        "    return model"
      ]
    },
    {
      "cell_type": "code",
      "execution_count": null,
      "metadata": {},
      "outputs": [],
      "source": [
        "model = create_model(max_sequence_len_train, total_words_train,lr=0.001,hidden=100,dropout=0.15)\n",
        "model.summary()"
      ]
    },
    {
      "cell_type": "code",
      "execution_count": null,
      "metadata": {},
      "outputs": [],
      "source": [
        "epochs = 30\n",
        "history =model.fit(predictors_train, label_train, epochs=epochs, verbose=1)"
      ]
    },
    {
      "attachments": {},
      "cell_type": "markdown",
      "metadata": {},
      "source": [
        "### Evaluering af Simple RNN"
      ]
    },
    {
      "cell_type": "code",
      "execution_count": null,
      "metadata": {},
      "outputs": [],
      "source": [
        "print(\"Evaluate history from training\")\n",
        "print(history.history)"
      ]
    },
    {
      "cell_type": "code",
      "execution_count": null,
      "metadata": {},
      "outputs": [],
      "source": [
        "loss_train =  np.array(history.history['loss'])\n",
        "epochs = range(1,epochs+1)\n",
        "print(loss_train)\n",
        "plt.plot(epochs,loss_train)\n",
        "plt.title('Training loss')\n",
        "plt.xlabel('Epochs')\n",
        "plt.ylabel('Loss')\n",
        "plt.show()"
      ]
    },
    {
      "cell_type": "code",
      "execution_count": null,
      "metadata": {},
      "outputs": [],
      "source": [
        "acc_train = np.array(history.history['categorical_accuracy'])\n",
        "print(epochs)\n",
        "print(acc_train)\n",
        "plt.plot(epochs,acc_train)\n",
        "plt.title('Training  accuracy')\n",
        "plt.xlabel('Epochs')\n",
        "plt.ylabel('Accuracy')\n",
        "plt.show()"
      ]
    },
    {
      "cell_type": "code",
      "execution_count": null,
      "metadata": {},
      "outputs": [],
      "source": [
        "def generate_text(seed_text, next_words, model, max_sequence_len):\n",
        "    for _ in range(next_words):\n",
        "        token_list = tokenizer.texts_to_sequences([seed_text])[0]\n",
        "        token_list = pad_sequences([token_list], maxlen=max_sequence_len-1, padding='pre')\n",
        "        predicted_x=model.predict(token_list) \n",
        "        predicted=np.argmax(predicted_x,axis=1)\n",
        "        output_word = \"\"\n",
        "        for word,index in tokenizer.word_index.items():\n",
        "            if index == predicted:\n",
        "                output_word = word\n",
        "                break\n",
        "        seed_text += \" \"+output_word\n",
        "    return seed_text.title()"
      ]
    },
    {
      "cell_type": "code",
      "execution_count": null,
      "metadata": {},
      "outputs": [],
      "source": [
        "print (generate_text(\"united states is a\", 20, model, max_sequence_len_train))"
      ]
    },
    {
      "attachments": {},
      "cell_type": "markdown",
      "metadata": {},
      "source": [
        "## Test af Model RNN med GRU"
      ]
    },
    {
      "cell_type": "code",
      "execution_count": null,
      "metadata": {},
      "outputs": [],
      "source": [
        "def create_model(max_sequence_len, total_words, lr, hidden,dropout):\n",
        "    input_len = max_sequence_len - 1\n",
        "    model = Sequential()\n",
        "    \n",
        "    model.add(Embedding(total_words, 20, input_length=input_len))\n",
        "\n",
        "    model.add(GRUV2(hidden)) \n",
        "    model.add(Dropout(dropout)) \n",
        "    \n",
        "    model.add(Dense(total_words, activation='softmax')) \n",
        "\n",
        "    model.compile(\n",
        "     optimizer=keras.optimizers.Adam(learning_rate=lr),  \n",
        "    loss=\"categorical_crossentropy\", \n",
        "    metrics=[keras.metrics.CategoricalAccuracy(), \n",
        "    keras.metrics.MeanAbsoluteError()], \n",
        "    )\n",
        "    \n",
        "    return model"
      ]
    },
    {
      "cell_type": "code",
      "execution_count": null,
      "metadata": {},
      "outputs": [],
      "source": [
        "model = create_model(max_sequence_len_train, total_words_train,lr=0.001,hidden=100,dropout=0.15)\n",
        "model.summary()"
      ]
    },
    {
      "cell_type": "code",
      "execution_count": null,
      "metadata": {},
      "outputs": [],
      "source": [
        "epochs = 30\n",
        "history =model.fit(predictors_train, label_train, epochs=epochs, verbose=1)"
      ]
    },
    {
      "attachments": {},
      "cell_type": "markdown",
      "metadata": {},
      "source": [
        "### Evaluering af Model med GRU"
      ]
    },
    {
      "cell_type": "code",
      "execution_count": null,
      "metadata": {},
      "outputs": [],
      "source": [
        "print(\"Evaluate history from training\")\n",
        "print(history.history)"
      ]
    },
    {
      "cell_type": "code",
      "execution_count": null,
      "metadata": {},
      "outputs": [],
      "source": [
        "loss_train =  np.array(history.history['loss'])\n",
        "epochs = range(1,epochs+1)\n",
        "print(loss_train)\n",
        "plt.plot(epochs,loss_train)\n",
        "plt.title('Training loss')\n",
        "plt.xlabel('Epochs')\n",
        "plt.ylabel('Loss')\n",
        "plt.show()"
      ]
    },
    {
      "cell_type": "code",
      "execution_count": null,
      "metadata": {},
      "outputs": [],
      "source": [
        "acc_train = np.array(history.history['categorical_accuracy'])\n",
        "print(epochs)\n",
        "print(acc_train)\n",
        "plt.plot(epochs,acc_train)\n",
        "plt.title('Training  accuracy')\n",
        "plt.xlabel('Epochs')\n",
        "plt.ylabel('Accuracy')\n",
        "plt.show()"
      ]
    },
    {
      "cell_type": "code",
      "execution_count": null,
      "metadata": {},
      "outputs": [],
      "source": [
        "print (generate_text(\"united states is a\", 20, model, max_sequence_len_train))"
      ]
    },
    {
      "attachments": {},
      "cell_type": "markdown",
      "metadata": {},
      "source": [
        "## Test af Model RNN med LSTM"
      ]
    },
    {
      "cell_type": "code",
      "execution_count": null,
      "metadata": {},
      "outputs": [],
      "source": [
        "def create_model(max_sequence_len, total_words, lr, hidden,dropout):\n",
        "    input_len = max_sequence_len - 1\n",
        "    model = Sequential()\n",
        "    \n",
        "    model.add(Embedding(total_words, 20, input_length=input_len))\n",
        "    model.add(LSTM(hidden)) \n",
        "    model.add(Dropout(dropout)) \n",
        "    \n",
        "    model.add(Dense(total_words, activation='softmax')) \n",
        "\n",
        "    model.compile(\n",
        "     optimizer=keras.optimizers.Adam(learning_rate=lr),  \n",
        "    loss=\"categorical_crossentropy\", \n",
        "    metrics=[keras.metrics.CategoricalAccuracy(), \n",
        "    keras.metrics.MeanAbsoluteError()], \n",
        "    )\n",
        "    \n",
        "    return model"
      ]
    },
    {
      "cell_type": "code",
      "execution_count": null,
      "metadata": {},
      "outputs": [],
      "source": [
        "model = create_model(max_sequence_len_train, total_words_train,lr=0.001,hidden=100,dropout=0.15)\n",
        "model.summary()"
      ]
    },
    {
      "cell_type": "code",
      "execution_count": null,
      "metadata": {},
      "outputs": [],
      "source": [
        "epochs = 30\n",
        "history =model.fit(predictors_train, label_train, epochs=epochs, verbose=1)"
      ]
    },
    {
      "attachments": {},
      "cell_type": "markdown",
      "metadata": {},
      "source": [
        "### Evaluering af model med LSTM"
      ]
    },
    {
      "cell_type": "code",
      "execution_count": null,
      "metadata": {},
      "outputs": [],
      "source": [
        "print(\"Evaluate history from training\")\n",
        "print(history.history)"
      ]
    },
    {
      "cell_type": "code",
      "execution_count": null,
      "metadata": {},
      "outputs": [],
      "source": [
        "loss_train =  np.array(history.history['loss'])\n",
        "epochs = range(1,epochs+1)\n",
        "print(loss_train)\n",
        "plt.plot(epochs,loss_train)\n",
        "plt.title('Training loss')\n",
        "plt.xlabel('Epochs')\n",
        "plt.ylabel('Loss')\n",
        "plt.show()"
      ]
    },
    {
      "cell_type": "code",
      "execution_count": null,
      "metadata": {},
      "outputs": [],
      "source": [
        "acc_train = np.array(history.history['categorical_accuracy'])\n",
        "print(epochs)\n",
        "print(acc_train)\n",
        "plt.plot(epochs,acc_train)\n",
        "plt.title('Training  accuracy')\n",
        "plt.xlabel('Epochs')\n",
        "plt.ylabel('Accuracy')\n",
        "plt.show()"
      ]
    },
    {
      "cell_type": "code",
      "execution_count": null,
      "metadata": {},
      "outputs": [],
      "source": [
        "print (generate_text(\"united states is a\", 20, model, max_sequence_len_train))"
      ]
    },
    {
      "attachments": {},
      "cell_type": "markdown",
      "metadata": {},
      "source": [
        "## Test af Model RNN med Bidirectional LSTM"
      ]
    },
    {
      "cell_type": "code",
      "execution_count": null,
      "metadata": {},
      "outputs": [],
      "source": [
        "def create_model(max_sequence_len, total_words, lr, hidden,dropout):\n",
        "    input_len = max_sequence_len - 1\n",
        "    model = Sequential()\n",
        "    \n",
        "    model.add(Embedding(total_words, 20, input_length=input_len))\n",
        "    \n",
        "\n",
        "    model.add(Bidirectional(LSTM(hidden)))\n",
        "    model.add(Dropout(dropout))\n",
        "    \n",
        "    model.add(Dense(total_words, activation='softmax')) \n",
        "\n",
        "    model.compile(\n",
        "     optimizer=keras.optimizers.Adam(learning_rate=lr),  \n",
        "    loss=\"categorical_crossentropy\", \n",
        "    metrics=[keras.metrics.CategoricalAccuracy(), \n",
        "    keras.metrics.MeanAbsoluteError()], \n",
        "    )\n",
        "    \n",
        "    return model"
      ]
    },
    {
      "cell_type": "code",
      "execution_count": null,
      "metadata": {},
      "outputs": [],
      "source": [
        "model = create_model(max_sequence_len_train, total_words_train,lr=0.001,hidden=100,dropout=0.15)\n",
        "model.summary()"
      ]
    },
    {
      "cell_type": "code",
      "execution_count": null,
      "metadata": {},
      "outputs": [],
      "source": [
        "epochs = 30\n",
        "history =model.fit(predictors_train, label_train, epochs=epochs, verbose=1)"
      ]
    },
    {
      "attachments": {},
      "cell_type": "markdown",
      "metadata": {},
      "source": [
        "### Evaluering på model"
      ]
    },
    {
      "cell_type": "code",
      "execution_count": null,
      "metadata": {},
      "outputs": [],
      "source": [
        "print(\"Evaluate history from training\")\n",
        "print(history.history)"
      ]
    },
    {
      "cell_type": "code",
      "execution_count": null,
      "metadata": {},
      "outputs": [],
      "source": [
        "loss_train =  np.array(history.history['loss'])\n",
        "epochs = range(1,epochs+1)\n",
        "print(loss_train)\n",
        "plt.plot(epochs,loss_train)\n",
        "plt.title('Training loss')\n",
        "plt.xlabel('Epochs')\n",
        "plt.ylabel('Loss')\n",
        "plt.show()"
      ]
    },
    {
      "cell_type": "code",
      "execution_count": null,
      "metadata": {},
      "outputs": [],
      "source": [
        "acc_train = np.array(history.history['categorical_accuracy'])\n",
        "print(epochs)\n",
        "print(acc_train)\n",
        "plt.plot(epochs,acc_train)\n",
        "plt.title('Training  accuracy')\n",
        "plt.xlabel('Epochs')\n",
        "plt.ylabel('Accuracy')\n",
        "plt.show()"
      ]
    },
    {
      "cell_type": "code",
      "execution_count": null,
      "metadata": {},
      "outputs": [],
      "source": [
        "print (generate_text(\"united states is a\", 20, model, max_sequence_len_train))"
      ]
    },
    {
      "attachments": {},
      "cell_type": "markdown",
      "metadata": {
        "id": "NVMJxSiLpQNs"
      },
      "source": [
        "# Den valgte Model RNN med Bidirectional LSTM"
      ]
    },
    {
      "cell_type": "code",
      "execution_count": 8,
      "metadata": {
        "_cell_guid": "60d6721e-e40e-4f2b-8f63-c06459d68f26",
        "_uuid": "76ef6d9352002d333a7c75e8aed7ce996015f527",
        "id": "KBgSfziLpQNs",
        "trusted": true
      },
      "outputs": [],
      "source": [
        "from tensorflow import keras\n",
        "def create_model(max_sequence_len, total_words, lr, hidden,dropout,batch):\n",
        "    input_len = max_sequence_len - 1\n",
        "    model = Sequential()\n",
        "    \n",
        "    model.add(Embedding(total_words, batch, input_length=input_len))\n",
        "\n",
        "    model.add(Bidirectional(LSTM(hidden)))\n",
        "\n",
        "    model.add(Dropout(dropout)) # for at ungå overfitting\n",
        "    model.add(Dense(total_words, activation='softmax')) \n",
        "\n",
        "    model.compile(\n",
        "     optimizer=keras.optimizers.Adam(learning_rate=lr),\n",
        "    loss=\"categorical_crossentropy\",\n",
        "    metrics=[keras.metrics.CategoricalAccuracy(), \n",
        "    keras.metrics.MeanAbsoluteError()], \n",
        "    )\n",
        "    \n",
        "    return model\n",
        "\n"
      ]
    },
    {
      "cell_type": "code",
      "execution_count": 11,
      "metadata": {
        "colab": {
          "base_uri": "https://localhost:8080/"
        },
        "id": "-lixPi0upQNv",
        "outputId": "c19b698c-3a70-47f9-c9c6-50e716e9ab23"
      },
      "outputs": [
        {
          "name": "stdout",
          "output_type": "stream",
          "text": [
            "Model: \"sequential_1\"\n",
            "_________________________________________________________________\n",
            " Layer (type)                Output Shape              Param #   \n",
            "=================================================================\n",
            " embedding_1 (Embedding)     (None, 983, 25)           65100     \n",
            "                                                                 \n",
            " bidirectional_1 (Bidirectio  (None, 100)              30400     \n",
            " nal)                                                            \n",
            "                                                                 \n",
            " dropout_1 (Dropout)         (None, 100)               0         \n",
            "                                                                 \n",
            " dense_1 (Dense)             (None, 2604)              263004    \n",
            "                                                                 \n",
            "=================================================================\n",
            "Total params: 358,504\n",
            "Trainable params: 358,504\n",
            "Non-trainable params: 0\n",
            "_________________________________________________________________\n"
          ]
        }
      ],
      "source": [
        "model = create_model(max_sequence_len_train, total_words_train,lr=0.01,hidden=100,dropout=0.15, batch=25)\n",
        "model.summary()"
      ]
    },
    {
      "attachments": {},
      "cell_type": "markdown",
      "metadata": {
        "id": "aK7Tpc6HpQNv"
      },
      "source": [
        "# Træning af modellen"
      ]
    },
    {
      "cell_type": "code",
      "execution_count": 12,
      "metadata": {
        "_cell_guid": "07d5cf03-d171-4993-9f8b-18446649ecb0",
        "_uuid": "156f3303b8120cc6932e6db985cbea4a7ceb08bf",
        "colab": {
          "base_uri": "https://localhost:8080/"
        },
        "id": "uDKuwP8ApQNw",
        "outputId": "a1d8ab12-3d84-4ba1-eee3-d8c291fbb980",
        "trusted": true
      },
      "outputs": [
        {
          "name": "stdout",
          "output_type": "stream",
          "text": [
            "Epoch 1/40\n",
            "287/287 [==============================] - 53s 173ms/step - loss: 7.7669 - categorical_accuracy: 0.0393 - mean_absolute_error: 7.6246e-04\n",
            "Epoch 2/40\n",
            "287/287 [==============================] - 39s 135ms/step - loss: 6.7471 - categorical_accuracy: 0.0558 - mean_absolute_error: 7.5981e-04\n",
            "Epoch 3/40\n",
            "287/287 [==============================] - 28s 97ms/step - loss: 6.2695 - categorical_accuracy: 0.0688 - mean_absolute_error: 7.5259e-04\n",
            "Epoch 4/40\n",
            "287/287 [==============================] - 24s 84ms/step - loss: 5.7617 - categorical_accuracy: 0.1091 - mean_absolute_error: 7.3489e-04\n",
            "Epoch 5/40\n",
            "287/287 [==============================] - 21s 74ms/step - loss: 5.1662 - categorical_accuracy: 0.1502 - mean_absolute_error: 7.1162e-04\n",
            "Epoch 6/40\n",
            "287/287 [==============================] - 23s 79ms/step - loss: 4.5592 - categorical_accuracy: 0.1951 - mean_absolute_error: 6.8567e-04\n",
            "Epoch 7/40\n",
            "287/287 [==============================] - 21s 74ms/step - loss: 4.0336 - categorical_accuracy: 0.2354 - mean_absolute_error: 6.6037e-04\n",
            "Epoch 8/40\n",
            "287/287 [==============================] - 18s 64ms/step - loss: 3.5714 - categorical_accuracy: 0.2780 - mean_absolute_error: 6.3359e-04\n",
            "Epoch 9/40\n",
            "287/287 [==============================] - 18s 63ms/step - loss: 3.2124 - categorical_accuracy: 0.3205 - mean_absolute_error: 6.0795e-04\n",
            "Epoch 10/40\n",
            "287/287 [==============================] - 19s 65ms/step - loss: 2.9574 - categorical_accuracy: 0.3597 - mean_absolute_error: 5.8351e-04\n",
            "Epoch 11/40\n",
            "287/287 [==============================] - 17s 59ms/step - loss: 2.7273 - categorical_accuracy: 0.3795 - mean_absolute_error: 5.6024e-04\n",
            "Epoch 12/40\n",
            "287/287 [==============================] - 18s 63ms/step - loss: 2.5340 - categorical_accuracy: 0.4159 - mean_absolute_error: 5.4000e-04\n",
            "Epoch 13/40\n",
            "287/287 [==============================] - 17s 60ms/step - loss: 2.3913 - categorical_accuracy: 0.4433 - mean_absolute_error: 5.2057e-04\n",
            "Epoch 14/40\n",
            "287/287 [==============================] - 18s 61ms/step - loss: 2.2355 - categorical_accuracy: 0.4666 - mean_absolute_error: 5.0217e-04\n",
            "Epoch 15/40\n",
            "287/287 [==============================] - 16s 56ms/step - loss: 2.1499 - categorical_accuracy: 0.4837 - mean_absolute_error: 4.8798e-04\n",
            "Epoch 16/40\n",
            "287/287 [==============================] - 17s 59ms/step - loss: 2.0989 - categorical_accuracy: 0.4942 - mean_absolute_error: 4.7726e-04\n",
            "Epoch 17/40\n",
            "287/287 [==============================] - 17s 60ms/step - loss: 2.0261 - categorical_accuracy: 0.5037 - mean_absolute_error: 4.6866e-04\n",
            "Epoch 18/40\n",
            "287/287 [==============================] - 16s 55ms/step - loss: 1.9715 - categorical_accuracy: 0.5170 - mean_absolute_error: 4.5702e-04\n",
            "Epoch 19/40\n",
            "287/287 [==============================] - 16s 55ms/step - loss: 1.9653 - categorical_accuracy: 0.5169 - mean_absolute_error: 4.5507e-04\n",
            "Epoch 20/40\n",
            "287/287 [==============================] - 16s 57ms/step - loss: 1.9626 - categorical_accuracy: 0.5186 - mean_absolute_error: 4.5085e-04\n",
            "Epoch 21/40\n",
            "287/287 [==============================] - 17s 60ms/step - loss: 1.9394 - categorical_accuracy: 0.5210 - mean_absolute_error: 4.4748e-04\n",
            "Epoch 22/40\n",
            "287/287 [==============================] - 16s 57ms/step - loss: 1.8591 - categorical_accuracy: 0.5373 - mean_absolute_error: 4.3554e-04\n",
            "Epoch 23/40\n",
            "287/287 [==============================] - 17s 60ms/step - loss: 1.8426 - categorical_accuracy: 0.5347 - mean_absolute_error: 4.3272e-04\n",
            "Epoch 24/40\n",
            "287/287 [==============================] - 16s 56ms/step - loss: 1.8387 - categorical_accuracy: 0.5415 - mean_absolute_error: 4.2999e-04\n",
            "Epoch 25/40\n",
            "287/287 [==============================] - 16s 56ms/step - loss: 1.8473 - categorical_accuracy: 0.5427 - mean_absolute_error: 4.2663e-04\n",
            "Epoch 26/40\n",
            "287/287 [==============================] - 16s 55ms/step - loss: 1.8555 - categorical_accuracy: 0.5424 - mean_absolute_error: 4.2539e-04\n",
            "Epoch 27/40\n",
            "287/287 [==============================] - 17s 58ms/step - loss: 1.8077 - categorical_accuracy: 0.5506 - mean_absolute_error: 4.2179e-04\n",
            "Epoch 28/40\n",
            "287/287 [==============================] - 16s 56ms/step - loss: 1.7545 - categorical_accuracy: 0.5645 - mean_absolute_error: 4.1200e-04\n",
            "Epoch 29/40\n",
            "287/287 [==============================] - 16s 56ms/step - loss: 1.8457 - categorical_accuracy: 0.5460 - mean_absolute_error: 4.2083e-04\n",
            "Epoch 30/40\n",
            "287/287 [==============================] - 16s 57ms/step - loss: 1.8149 - categorical_accuracy: 0.5463 - mean_absolute_error: 4.1620e-04\n",
            "Epoch 31/40\n",
            "287/287 [==============================] - 17s 59ms/step - loss: 1.7686 - categorical_accuracy: 0.5515 - mean_absolute_error: 4.0956e-04\n",
            "Epoch 32/40\n",
            "287/287 [==============================] - 15s 53ms/step - loss: 1.7972 - categorical_accuracy: 0.5556 - mean_absolute_error: 4.1084e-04\n",
            "Epoch 33/40\n",
            "287/287 [==============================] - 16s 56ms/step - loss: 1.9542 - categorical_accuracy: 0.5231 - mean_absolute_error: 4.2967e-04\n",
            "Epoch 34/40\n",
            "287/287 [==============================] - 16s 56ms/step - loss: 1.8916 - categorical_accuracy: 0.5347 - mean_absolute_error: 4.2683e-04\n",
            "Epoch 35/40\n",
            "287/287 [==============================] - 16s 56ms/step - loss: 1.8196 - categorical_accuracy: 0.5430 - mean_absolute_error: 4.1364e-04\n",
            "Epoch 36/40\n",
            "287/287 [==============================] - 16s 56ms/step - loss: 1.8401 - categorical_accuracy: 0.5400 - mean_absolute_error: 4.1515e-04\n",
            "Epoch 37/40\n",
            "287/287 [==============================] - 16s 57ms/step - loss: 1.9094 - categorical_accuracy: 0.5319 - mean_absolute_error: 4.2687e-04\n",
            "Epoch 38/40\n",
            "287/287 [==============================] - 16s 55ms/step - loss: 1.8784 - categorical_accuracy: 0.5418 - mean_absolute_error: 4.1841e-04\n",
            "Epoch 39/40\n",
            "287/287 [==============================] - 16s 56ms/step - loss: 1.8096 - categorical_accuracy: 0.5571 - mean_absolute_error: 4.0812e-04\n",
            "Epoch 40/40\n",
            "287/287 [==============================] - 16s 55ms/step - loss: 1.7785 - categorical_accuracy: 0.5533 - mean_absolute_error: 4.0791e-04\n"
          ]
        }
      ],
      "source": [
        "epochs = 60\n",
        "history =model.fit(predictors_train, label_train, epochs=epochs, verbose=1)"
      ]
    },
    {
      "attachments": {},
      "cell_type": "markdown",
      "metadata": {
        "id": "2qFwqWz5pQNt"
      },
      "source": [
        "### Tuning hyper parametre"
      ]
    },
    {
      "cell_type": "code",
      "execution_count": 9,
      "metadata": {
        "colab": {
          "base_uri": "https://localhost:8080/"
        },
        "id": "3q5aovwmpQNt",
        "outputId": "af88259b-2f5d-48e5-a9fe-bc60b216b31a"
      },
      "outputs": [
        {
          "name": "stdout",
          "output_type": "stream",
          "text": [
            "Trial 4 Complete [00h 03m 26s]\n",
            "categorical_accuracy: 0.0381254106760025\n",
            "\n",
            "Best categorical_accuracy So Far: 0.1367708146572113\n",
            "Total elapsed time: 00h 14m 14s\n",
            "Results summary\n",
            "Results in data/hyperparamoptim\n",
            "Showing 10 best trials\n",
            "Objective(name=\"categorical_accuracy\", direction=\"max\")\n",
            "\n",
            "Trial 2 summary\n",
            "Hyperparameters:\n",
            "dropout: 0.15000000000000002\n",
            "hidden: 50\n",
            "batch: 25\n",
            "lr: 0.022357867278396774\n",
            "Score: 0.1367708146572113\n",
            "\n",
            "Trial 0 summary\n",
            "Hyperparameters:\n",
            "dropout: 0.2\n",
            "hidden: 250\n",
            "batch: 45\n",
            "lr: 0.002040732098533833\n",
            "Score: 0.07537688314914703\n",
            "\n",
            "Trial 1 summary\n",
            "Hyperparameters:\n",
            "dropout: 0.2\n",
            "hidden: 150\n",
            "batch: 20\n",
            "lr: 0.00013204884424632683\n",
            "Score: 0.05188988521695137\n",
            "\n",
            "Trial 3 summary\n",
            "Hyperparameters:\n",
            "dropout: 0.25\n",
            "hidden: 150\n",
            "batch: 50\n",
            "lr: 0.007289444455577516\n",
            "Score: 0.0381254106760025\n"
          ]
        }
      ],
      "source": [
        "def build_model(hp):\n",
        "    dropout = hp.Float(\"dropout\", min_value=0.1, max_value=0.3, step=0.05)\n",
        "    hidden = hp.Int(\"hidden\", min_value=50, max_value=300, step=50)\n",
        "    batch = hp.Int(\"batch\", min_value=10, max_value=50, step=5)\n",
        "    lr = hp.Float(\"lr\", min_value=0.0001, max_value=0.1, sampling=\"log\")\n",
        "    \n",
        "    bmodel = create_model(\n",
        "        max_sequence_len_train, total_words_train, lr=lr, hidden=hidden, dropout=dropout, batch=batch\n",
        "    )\n",
        "    return bmodel\n",
        "\n",
        "\n",
        "build_model(kt.HyperParameters())\n",
        "tuner = kt.RandomSearch(\n",
        "    hypermodel=build_model,\n",
        "    objective=\"categorical_accuracy\",\n",
        "    max_trials=4, # more trails = better result\n",
        "    executions_per_trial=1,\n",
        "    overwrite=True,\n",
        "    directory=\"data\",\n",
        "    project_name=\"hyperparamoptim\",\n",
        ")\n",
        "tuner.search_space_summary()\n",
        "tuner.search(predictors_train, label_train, epochs=4)\n",
        "tuner.results_summary()\n"
      ]
    },
    {
      "cell_type": "code",
      "execution_count": 10,
      "metadata": {
        "colab": {
          "base_uri": "https://localhost:8080/"
        },
        "id": "qPy-av5JpQNu",
        "outputId": "e1c5061b-a953-46ab-ac48-3f914f3e4df8"
      },
      "outputs": [
        {
          "name": "stdout",
          "output_type": "stream",
          "text": [
            "{'dropout': 0.15000000000000002, 'hidden': 50, 'batch': 25, 'lr': 0.022357867278396774}\n"
          ]
        }
      ],
      "source": [
        "best_hps = tuner.get_best_hyperparameters()[0]\n",
        "learning_rate = tuner.get_best_hyperparameters()[0]['lr']\n",
        "dropout_rate = tuner.get_best_hyperparameters()[0]['dropout']\n",
        "hidden = tuner.get_best_hyperparameters()[0]['hidden']\n",
        "batch = tuner.get_best_hyperparameters()[0]['batch']\n",
        "print(best_hps.values)\n"
      ]
    },
    {
      "cell_type": "code",
      "execution_count": null,
      "metadata": {},
      "outputs": [],
      "source": [
        "model = create_model(max_sequence_len_train, total_words_train,lr=learning_rate,hidden=hidden,dropout=dropout_rate, batch=batch)\n",
        "model.summary()"
      ]
    },
    {
      "cell_type": "code",
      "execution_count": null,
      "metadata": {},
      "outputs": [],
      "source": [
        "epochs = 100\n",
        "history =model.fit(predictors_train, label_train, epochs=epochs, verbose=1)"
      ]
    },
    {
      "cell_type": "code",
      "execution_count": 13,
      "metadata": {
        "colab": {
          "base_uri": "https://localhost:8080/"
        },
        "id": "gGNeyYK-pQNw",
        "outputId": "a7bbd997-0e36-4906-e63b-a476fe4121b9"
      },
      "outputs": [
        {
          "name": "stderr",
          "output_type": "stream",
          "text": [
            "WARNING:absl:Found untraced functions such as lstm_cell_4_layer_call_fn, lstm_cell_4_layer_call_and_return_conditional_losses, lstm_cell_5_layer_call_fn, lstm_cell_5_layer_call_and_return_conditional_losses while saving (showing 4 of 4). These functions will not be directly callable after loading.\n"
          ]
        }
      ],
      "source": [
        "model.save(\"data/trainedmodel\")"
      ]
    },
    {
      "attachments": {},
      "cell_type": "markdown",
      "metadata": {
        "id": "wy0T6hEWpQNx"
      },
      "source": [
        "# Evaluating af modellen"
      ]
    },
    {
      "cell_type": "code",
      "execution_count": 14,
      "metadata": {
        "colab": {
          "base_uri": "https://localhost:8080/"
        },
        "id": "yv58i6kQpQNx",
        "outputId": "f4bbd32f-5485-4da6-c442-96e2a9c330c1"
      },
      "outputs": [
        {
          "name": "stdout",
          "output_type": "stream",
          "text": [
            "Evaluate history from training\n",
            "{'loss': [7.766898155212402, 6.747143745422363, 6.2695417404174805, 5.7617340087890625, 5.1662211418151855, 4.559170722961426, 4.033590316772461, 3.5714240074157715, 3.212372064590454, 2.957368850708008, 2.7272799015045166, 2.5340182781219482, 2.3912744522094727, 2.235455274581909, 2.1499369144439697, 2.0989387035369873, 2.026120901107788, 1.9715054035186768, 1.9652503728866577, 1.962632656097412, 1.9394093751907349, 1.8590967655181885, 1.8426268100738525, 1.8386561870574951, 1.84731125831604, 1.8555197715759277, 1.8076958656311035, 1.7544580698013306, 1.8456939458847046, 1.8148512840270996, 1.7685651779174805, 1.7971829175949097, 1.9542299509048462, 1.891629934310913, 1.8196003437042236, 1.8401163816452026, 1.9093760251998901, 1.8784421682357788, 1.8095840215682983, 1.7785000801086426], 'categorical_accuracy': [0.039327070116996765, 0.05582259222865105, 0.06882237643003464, 0.10913261771202087, 0.15020756423473358, 0.19510596990585327, 0.2354162186384201, 0.2780205309391022, 0.32051563262939453, 0.3597334623336792, 0.3795062303543091, 0.41588377952575684, 0.4433034658432007, 0.46657198667526245, 0.4837229549884796, 0.4942101836204529, 0.5037142038345337, 0.5170417428016663, 0.516932487487793, 0.518571138381958, 0.5209744572639465, 0.5372514724731445, 0.5347388982772827, 0.5415118932723999, 0.5427135825157166, 0.5423858165740967, 0.5505790114402771, 0.5644527077674866, 0.5459908246994019, 0.546318531036377, 0.5514529347419739, 0.555604100227356, 0.5230500102043152, 0.5347388982772827, 0.5430412888526917, 0.5399824976921082, 0.5318986177444458, 0.5418396592140198, 0.5571334958076477, 0.5533100366592407], 'mean_absolute_error': [0.0007624640711583197, 0.0007598067168146372, 0.0007525855908170342, 0.000734886561986059, 0.0007116152555681765, 0.000685666804201901, 0.0006603669608011842, 0.0006335917278192937, 0.0006079510203562677, 0.0005835061310790479, 0.0005602416349574924, 0.0005400010268203914, 0.000520566594786942, 0.0005021695978939533, 0.0004879841872025281, 0.0004772622196469456, 0.00046865810872986913, 0.0004570246674120426, 0.00045507479808293283, 0.0004508459533099085, 0.0004474837041925639, 0.00043553856085054576, 0.0004327204078435898, 0.000429988547693938, 0.0004266276373527944, 0.0004253884544596076, 0.0004217905516270548, 0.00041199629777111113, 0.0004208313475828618, 0.0004162040422670543, 0.00040955987060442567, 0.00041084460099227726, 0.0004296705883461982, 0.00042682531056925654, 0.0004136439529247582, 0.00041514929034747183, 0.0004268720222171396, 0.0004184117424301803, 0.00040812400402501225, 0.0004079114005435258]}\n"
          ]
        }
      ],
      "source": [
        "print(\"Evaluate history from training\")\n",
        "print(history.history)"
      ]
    },
    {
      "cell_type": "code",
      "execution_count": 15,
      "metadata": {
        "colab": {
          "base_uri": "https://localhost:8080/",
          "height": 594
        },
        "id": "lDd-QY89pQNy",
        "outputId": "e2cf569e-ef6e-4fd1-fc70-aefdc2268e69"
      },
      "outputs": [
        {
          "name": "stdout",
          "output_type": "stream",
          "text": [
            "[7.76689816 6.74714375 6.26954174 5.76173401 5.16622114 4.55917072\n",
            " 4.03359032 3.57142401 3.21237206 2.95736885 2.7272799  2.53401828\n",
            " 2.39127445 2.23545527 2.14993691 2.0989387  2.0261209  1.9715054\n",
            " 1.96525037 1.96263266 1.93940938 1.85909677 1.84262681 1.83865619\n",
            " 1.84731126 1.85551977 1.80769587 1.75445807 1.84569395 1.81485128\n",
            " 1.76856518 1.79718292 1.95422995 1.89162993 1.81960034 1.84011638\n",
            " 1.90937603 1.87844217 1.80958402 1.77850008]\n"
          ]
        },
        {
          "data": {
            "image/png": "[encoded data removed]",
            "text/plain": [
              "<Figure size 640x480 with 1 Axes>"
            ]
          },
          "metadata": {},
          "output_type": "display_data"
        }
      ],
      "source": [
        "loss_train =  np.array(history.history['loss'])\n",
        "epochs = range(1,epochs+1)\n",
        "print(loss_train)\n",
        "plt.plot(epochs,loss_train)\n",
        "plt.title('Training loss')\n",
        "plt.xlabel('Epochs')\n",
        "plt.ylabel('Loss')\n",
        "plt.show()"
      ]
    },
    {
      "cell_type": "code",
      "execution_count": 16,
      "metadata": {
        "colab": {
          "base_uri": "https://localhost:8080/",
          "height": 611
        },
        "id": "S3irgsbFpQNy",
        "outputId": "ab15b983-4a0d-4ecb-ecf9-cbc6b234b4e9"
      },
      "outputs": [
        {
          "name": "stdout",
          "output_type": "stream",
          "text": [
            "range(1, 41)\n",
            "[0.03932707 0.05582259 0.06882238 0.10913262 0.15020756 0.19510597\n",
            " 0.23541622 0.27802053 0.32051563 0.35973346 0.37950623 0.41588378\n",
            " 0.44330347 0.46657199 0.48372295 0.49421018 0.5037142  0.51704174\n",
            " 0.51693249 0.51857114 0.52097446 0.53725147 0.5347389  0.54151189\n",
            " 0.54271358 0.54238582 0.55057901 0.56445271 0.54599082 0.54631853\n",
            " 0.55145293 0.5556041  0.52305001 0.5347389  0.54304129 0.5399825\n",
            " 0.53189862 0.54183966 0.5571335  0.55331004]\n"
          ]
        },
        {
          "data": {
            "image/png": "[encoded data removed]",
            "text/plain": [
              "<Figure size 640x480 with 1 Axes>"
            ]
          },
          "metadata": {},
          "output_type": "display_data"
        }
      ],
      "source": [
        "acc_train = np.array(history.history['categorical_accuracy'])\n",
        "print(epochs)\n",
        "print(acc_train)\n",
        "plt.plot(epochs,acc_train)\n",
        "plt.title('Training  accuracy')\n",
        "plt.xlabel('Epochs')\n",
        "plt.ylabel('Accuracy')\n",
        "plt.show()"
      ]
    },
    {
      "cell_type": "code",
      "execution_count": 17,
      "metadata": {
        "id": "7G4rnI36pQNz"
      },
      "outputs": [],
      "source": [
        "#model = tf.keras.models.load_model('data/trainedmodel')"
      ]
    },
    {
      "attachments": {},
      "cell_type": "markdown",
      "metadata": {
        "_cell_guid": "61e99cfe-7395-4d61-8d1a-8539103d3db5",
        "_uuid": "448bf43b123060dfe4e27cb9f12889e4fe0ed2a7",
        "id": "5P6Kc9vVpQN0"
      },
      "source": [
        "# Generator for tekst\n"
      ]
    },
    {
      "cell_type": "code",
      "execution_count": 18,
      "metadata": {
        "_uuid": "e71e56543b7065f115a05e3fd062262b3b94ad46",
        "id": "rzkY5Os-pQN0",
        "trusted": true
      },
      "outputs": [],
      "source": [
        "def generate_text(seed_text, next_words, model, max_sequence_len):\n",
        "    for _ in range(next_words):\n",
        "        token_list = tokenizer.texts_to_sequences([seed_text])[0]\n",
        "        token_list = pad_sequences([token_list], maxlen=max_sequence_len-1, padding='pre')\n",
        "        predicted_x=model.predict(token_list) \n",
        "        predicted=np.argmax(predicted_x,axis=1)\n",
        "        output_word = \"\"\n",
        "        for word,index in tokenizer.word_index.items():\n",
        "            if index == predicted:\n",
        "                output_word = word\n",
        "                break\n",
        "        seed_text += \" \"+output_word\n",
        "    return seed_text.title()"
      ]
    },
    {
      "attachments": {},
      "cell_type": "markdown",
      "metadata": {
        "_cell_guid": "ea0bddb6-acc6-4592-a2e0-ffc4129a582f",
        "_uuid": "c49bf4ea0e54f3145149e164e243d897f545b84c",
        "id": "m3YehALppQN1"
      },
      "source": [
        "### Generate text"
      ]
    },
    {
      "cell_type": "code",
      "execution_count": 19,
      "metadata": {
        "_cell_guid": "e38dd280-093b-4091-b82b-9aa90045b107",
        "_kg_hide-input": true,
        "_uuid": "a21548224c9e661a29e3d369e348aada0599bdc9",
        "colab": {
          "base_uri": "https://localhost:8080/"
        },
        "id": "K6KIFOXZpQN1",
        "outputId": "a370d59a-eaf3-4496-8a75-fc7c4f28f577",
        "trusted": true
      },
      "outputs": [
        {
          "name": "stdout",
          "output_type": "stream",
          "text": [
            "1/1 [==============================] - 1s 720ms/step\n",
            "1/1 [==============================] - 0s 45ms/step\n",
            "1/1 [==============================] - 0s 38ms/step\n",
            "1/1 [==============================] - 0s 36ms/step\n",
            "1/1 [==============================] - 0s 36ms/step\n",
            "1/1 [==============================] - 0s 41ms/step\n",
            "1/1 [==============================] - 0s 39ms/step\n",
            "1/1 [==============================] - 0s 39ms/step\n",
            "1/1 [==============================] - 0s 39ms/step\n",
            "1/1 [==============================] - 0s 36ms/step\n",
            "1/1 [==============================] - 0s 42ms/step\n",
            "1/1 [==============================] - 0s 39ms/step\n",
            "1/1 [==============================] - 0s 39ms/step\n",
            "1/1 [==============================] - 0s 36ms/step\n",
            "1/1 [==============================] - 0s 36ms/step\n",
            "1/1 [==============================] - 0s 35ms/step\n",
            "1/1 [==============================] - 0s 37ms/step\n",
            "1/1 [==============================] - 0s 36ms/step\n",
            "1/1 [==============================] - 0s 41ms/step\n",
            "1/1 [==============================] - 0s 37ms/step\n",
            "United States Is A Priority In This Is What Many It S Part Because Of The Values From The Official Federal The Homeland Under\n"
          ]
        }
      ],
      "source": [
        "print (generate_text(\"united states is a\", 20, model, max_sequence_len_train))\n"
      ]
    }
  ],
  "metadata": {
    "accelerator": "GPU",
    "colab": {
      "gpuType": "T4",
      "provenance": []
    },
    "kernelspec": {
      "display_name": "Python 3",
      "name": "python3"
    },
    "language_info": {
      "codemirror_mode": {
        "name": "ipython",
        "version": 3
      },
      "file_extension": ".py",
      "mimetype": "text/x-python",
      "name": "python",
      "nbconvert_exporter": "python",
      "pygments_lexer": "ipython3",
      "version": "3.10.9"
    }
  },
  "nbformat": 4,
  "nbformat_minor": 0
}
