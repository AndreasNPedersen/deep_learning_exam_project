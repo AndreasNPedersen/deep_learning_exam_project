{
 "cells": [
  {
   "cell_type": "code",
   "execution_count": 162,
   "metadata": {},
   "outputs": [],
   "source": [
    "import torch\n",
    "import torch.nn as nn\n",
    "import string\n",
    "import random\n",
    "import sys\n",
    "import unidecode\n",
    "from datetime import datetime\n",
    "import pickle\n",
    "# from torch.utils.tensorboard import SummaryWriter\n"
   ]
  },
  {
   "cell_type": "code",
   "execution_count": 163,
   "metadata": {},
   "outputs": [],
   "source": [
    "# device config\n",
    "device = torch.device('cuda' if torch.cuda.is_available() else 'cpu')"
   ]
  },
  {
   "cell_type": "code",
   "execution_count": 164,
   "metadata": {},
   "outputs": [
    {
     "name": "stdout",
     "output_type": "stream",
     "text": [
      "number of words: 20449\n"
     ]
    }
   ],
   "source": [
    "# get words\n",
    "all_words = []\n",
    "\n",
    "\n",
    "with open('./data/unique_words_2k_articles.dat', 'rb') as file:\n",
    "    all_words = pickle.load(file)\n",
    "\n",
    "all_words.append(' ')\n",
    "vocab_length = len(all_words)\n",
    "print(f'number of words: {vocab_length}')\n"
   ]
  },
  {
   "cell_type": "code",
   "execution_count": 165,
   "metadata": {},
   "outputs": [
    {
     "name": "stdout",
     "output_type": "stream",
     "text": [
      "2000\n",
      "722324\n",
      "['<period>', 'both', 'mexico', 'and', 'canada', 'have', 'dismissed', 'his', 'musing', 'in', 'a', 'tuesday', 'speech', 'that', '<quotation_mark>', 'well', 'end', 'up', 'probably', 'terminating', 'nafta', 'at', 'some', 'point', '<quotation_mark>', 'as', 'a', 'negotiating', 'tactic', '<period>']\n"
     ]
    }
   ],
   "source": [
    "# read file\n",
    "corpus = []\n",
    "file_content = []\n",
    "with open('./data/tokenized_articles.dat', 'rb') as file:\n",
    "    file_content = pickle.load(file)\n",
    "\n",
    "# this approach uses embedding, and therefore doesn't need padding so we remove it from the prepared data\n",
    "print(len(file_content))\n",
    "for article in file_content:\n",
    "    corpus.extend([word.strip() for word in article if word not in ['<pad>', ' ']])\n",
    "# got a value error, so addin a blank space to corpus\n",
    "# might be a flaw in the data preparation\n",
    "\n",
    "print(len(corpus))\n",
    "print(corpus[-30:])\n"
   ]
  },
  {
   "cell_type": "code",
   "execution_count": 166,
   "metadata": {},
   "outputs": [],
   "source": [
    "# module\n",
    "\n",
    "class RNN(nn.Module):\n",
    "    def __init__(self, input_size, hidden_size, num_layers, output_size):\n",
    "        super(RNN, self).__init__()\n",
    "        self.hidden_size = hidden_size\n",
    "        self.num_layers = num_layers\n",
    "        \n",
    "        self.embed = nn.Embedding(input_size, hidden_size)\n",
    "        self.lstm = nn.LSTM(hidden_size, hidden_size, num_layers, batch_first=True, bidirectional=True)\n",
    "        self.fc = nn.Linear(self.hidden_size * num_layers, output_size)\n",
    "\n",
    "    def forward(self, x, hidden, cell):\n",
    "        out = self.embed(x)\n",
    "        out, (hidden, cell) = self.lstm(out.unsqueeze(1), (hidden, cell))\n",
    "        out = self.fc(out.reshape(out.shape[0], -1))\n",
    "        return out, (hidden, cell)\n",
    "    \n",
    "    def init_hidden(self, batch_size):\n",
    "        hidden = torch.zeros(self.num_layers * 2, batch_size, self.hidden_size).to(device)\n",
    "        cell = torch.zeros(self.num_layers * 2, batch_size, self.hidden_size).to(device)\n",
    "        return hidden, cell\n",
    "\n"
   ]
  },
  {
   "cell_type": "code",
   "execution_count": 167,
   "metadata": {},
   "outputs": [],
   "source": [
    "class Generator():\n",
    "    def __init__(self):\n",
    "        self.chunk_len = 30\n",
    "        self.num_epochs = 10000\n",
    "        self.batch_size = 1\n",
    "        self.print_every = self.num_epochs // 20 or 1\n",
    "        self.hidden_size = 256\n",
    "        self.num_layers = 2\n",
    "        self.lr = 0.003\n",
    "\n",
    "\n",
    "    def word_tensor(self, string):\n",
    "        tensor = torch.zeros(len(string)).long()\n",
    "        for c in range(len(string)):\n",
    "            tensor[c] = all_words.index(string[c])\n",
    "        return tensor\n",
    "\n",
    "\n",
    "    def get_random_batch(self):\n",
    "        start_idx = random.randint(0, len(corpus) - self.chunk_len)\n",
    "        end_idx = start_idx + self.chunk_len + 1\n",
    "        text_str = corpus[start_idx:end_idx]\n",
    "        text_input = torch.zeros(self.batch_size, self.chunk_len)\n",
    "        text_target = torch.zeros(self.batch_size, self.chunk_len)\n",
    "        for i in range(self.batch_size):\n",
    "            text_input[i,:] = self.word_tensor(text_str[:-1])\n",
    "            text_target[i,:] = self.word_tensor(text_str[1:])\n",
    "        return text_input.long(), text_target.long()\n",
    "\n",
    "\n",
    "    def generate(self, initial_str='i would like', predict_len=200, temperature=0.85):\n",
    "        initial_words = initial_str.split(' ')\n",
    "        print(initial_words)\n",
    "        hidden, cell = self.rnn.init_hidden(batch_size=self.batch_size)\n",
    "        initial_input = self.word_tensor(initial_words)\n",
    "        predicted = initial_words\n",
    "        \n",
    "        for p in range(len(initial_words) - 1):\n",
    "            _, (hidden, cell) = self.rnn(initial_input[p].view(1).to(device), hidden, cell)\n",
    "\n",
    "        last_word = initial_input[-1]\n",
    "        for p in range(predict_len):\n",
    "            output, (hidden, cell) = self.rnn(last_word.view(1).to(device), hidden, cell)\n",
    "            output_dist = output.data.view(-1).div(temperature).exp()\n",
    "            top_word = torch.multinomial(output_dist, 1)[0]\n",
    "            predicted_word = [all_words[top_word]]\n",
    "            predicted.extend(predicted_word)\n",
    "            last_word = self.word_tensor(predicted_word)\n",
    "            \n",
    "\n",
    "\n",
    "        return predicted\n",
    "\n",
    "\n",
    "    def train(self):\n",
    "        self.rnn = RNN(vocab_length, self.hidden_size, self.num_layers, vocab_length).to(device)\n",
    "        optimizer = torch.optim.Adam(self.rnn.parameters(), lr=self.lr)\n",
    "        criterion = nn.CrossEntropyLoss()\n",
    "        print(f'<{datetime.now()}>starting training')\n",
    "\n",
    "        for epoch in range(1, self.num_epochs + 1):\n",
    "            input, target = self.get_random_batch()\n",
    "            hidden, cell = self.rnn.init_hidden(batch_size=self.batch_size)\n",
    "\n",
    "            self.rnn.zero_grad()\n",
    "            loss = 0\n",
    "            input = input.to(device)\n",
    "            target = target.to(device)\n",
    "\n",
    "            for c in range(self.chunk_len):\n",
    "                output, (hidden, cell) = self.rnn(input[:, c], hidden, cell)\n",
    "                loss += criterion(output, target[:, c])\n",
    "\n",
    "            loss.backward()\n",
    "            optimizer.step()\n",
    "            loss = loss.item() / self.chunk_len\n",
    "\n",
    "            if epoch % self.print_every == 0:\n",
    "                print(f'\\n\\n<{datetime.now()}> | epoch: {epoch}/{self.num_epochs} | loss: {loss}')\n",
    "                print(self.generate())\n"
   ]
  },
  {
   "cell_type": "code",
   "execution_count": 168,
   "metadata": {},
   "outputs": [
    {
     "name": "stdout",
     "output_type": "stream",
     "text": [
      "<2023-05-29 13:32:37.734677>starting training\n",
      "\n",
      "\n",
      "<2023-05-29 13:33:20.028073> | epoch: 400/10000 | loss: 6.112348937988282\n",
      "['i', 'would', 'like']\n",
      "['i', 'would', 'like', 'administration', 'of', 'a', 'susan', 'had', 'now', 'national', 'of', 'a', 'democrats', 'fears', 'and', 'minimizing', 'we', 'been', '<quotation_mark>', 'vetoes', 'to', 'attorney', 'and', 'iran', '<right_paren>', '<comma>', 'already', 'today', '<period>', 'u', '<period>', 's', '<period>', 'has', 'has', 'threatened', 'now', 'to', 'breakthrough', '<comma>', 'virginia', 'steele', 'themselves', '<period>', 's', '<period>', '<quotation_mark>', 'allies', 'would', '<question_mark>', 'gets', 'that', 'our', '<quotation_mark>', 'security', 'right', 'that', 'is', 'it', 'think', 'him', 'and', 'for', 'the', 'march', 'have', 'and', 'this', 'appointee', 'asked', 'british', 'and', 'every', 'would', 'and', 'apo', 'nations', '<comma>', 'as', 'the', 'ending', 'in', 'said', '<comma>', 'adding', '<period>', 'he', 'asked', 'laos', 'to', 'economy', 'lowest', '1997', '<comma>', 'but', 'xiaomi', 'people', 'was', 'and', 'daca', '<period>', 'a', 'than', 'rather', '<period>', 'and', '54', 'since', 'on', 'in', 'tuesday', 'of', 'the', 'property', '20', 'the', 'states', 'to', 'the', '1900s', 'officials', '<comma>', 'military', 'and', 'said', 'said', '<period>', 'both', '<period>', 'a', 'president', 'tuesday', 'higher', 'was', 'the', 'laws', 'by', 'by', 'the', 'years', 'that', 'raise', 'exactly', '<comma>', '<comma>', 'crime', '<period>', 'did', 'were', 'may', 'prompted', 'it', '<comma>', '<quotation_mark>', '<quotation_mark>', 'as', 'long', 'discussion', '<comma>', '<quotation_mark>', 'cattle', 'the', 'against', 'less', 'them', 'dakota', 'percent', 'that', 'annual', 'who', 'legal', '<comma>', 'has', 'of', '<comma>', 'country', 'to', 'ingalls', 'east', 'support', 'disseminating', 'and', 'their', '<period>', 'and', 'said', 'to', 'several', 'relief', 'blamed', 'rights', '<comma>', 'and', 'the', 'wyden', 'department', '<comma>', 'for', 'hours', 'lawmakers', 'an', 'be', 'the']\n",
      "\n",
      "\n",
      "<2023-05-29 13:34:01.288841> | epoch: 800/10000 | loss: 7.784000651041667\n",
      "['i', 'would', 'like']\n",
      "['i', 'would', 'like', 'children', 'not', 'an', 'he', 'tug', 'to', 'happen', 'a', 'debt', 'sustain', '<period>', 'propositions', '<comma>', 'trump', '<comma>', 'the', 'russian', 'frustrated', '<comma>', 'anonymously', 'the', 'white', 'house', '<comma>', 'he', 'but', 'u', '<period>', 's', '<period>', 'employee', 'was', 'post', 'they', 'in', 'total', 'in', 'passage', '$87', 'his', 'its', 'later', 'groups', 'with', 'paul', 'from', 'today', 'and', 'the', '2016', 'that', 'government', 'in', 'their', 'contacted', 'and', 'talks', 'and', 'democrat', 'he', 'this', 'that', 'the', 'than', 'differences', 'to', 'some', 'been', 'probably', 'or', 'suffocate', 'in', 'trump', 'to', 'the', 'pay', 'that', 'isolation', 'earth', 'to', 'be', 'much', 'from', 'commercialization', 'buy', '<comma>', 'the', 'government', 'market', '<period>', '<quotation_mark>', 'she', 'in', 'october', 'a', 'each', 'tax', '<right_paren>', 'as', 'the', 'senate', 'on', 'the', 'dead', 'contribution', 'blue', 'people', 'never', 'called', '16', 'to', 'manafort', 'to', 'the', 'migrating', 'voting', 'affected', 'from', 'year', 'to', 'former', 'who', 'wolf', 'of', 'the', 'united', 'states', '<period>', 'increasingly', 'district', 'overhaul', 'was', 'the', 'cumbersome', 'suggest', '<comma>', '<quotation_mark>', 'but', 'had', 'chuck', 'january', 'who', 'levitt', 'to', 'the', 'exposed', 'for', 'hurricane', 'white', '<comma>', 'administration', 'tax', 'two', '<comma>', 'top', 'tax', 'republicans', '<comma>', 'up', 'and', 'just', 'as', 'other', 'favor', 'in', 'street', 'the', 'preys', 'can', 'not', 'change', '<question_mark>', 'week', 'of', 'the', 'earners', 'tax', 'country', 'in', 'each', 'over', 'the', 'researchers', 'at', 'the', 'sergeant', 'nearly', 'with', 'rfs', 'is', 'just', 'the', '$600', 'has', 'cuba', 'to', 'dream', 'in', 'a', 'mukhammadzoir']\n",
      "\n",
      "\n",
      "<2023-05-29 13:34:42.989028> | epoch: 1200/10000 | loss: 7.398624165852865\n",
      "['i', 'would', 'like']\n",
      "['i', 'would', 'like', 'a', 'slap', 'to', 'subject', 'and', '64', 'will', 'their', 'insurer', 'deal', '<question_mark>', 'matter', 'be', 'stay', 'to', 'requests', 'to', 'be', 'mean', 'to', 'state', 'and', 'diplomatic', 'in', '<quotation_mark>', 'by', 'with', 'let', 'enforcement', 'paid', 'deduction', 'that', 'relied', 'to', 'the', 'dollar', 'tax', 'aide', 'to', 'comment', 'in', 'respect', 'to', 'monday', '<comma>', '<quotation_mark>', 'said', 'said', '<period>', 'the', 'district', '<question_mark>', 'crime', 'officials', 'and', 'said', '<period>', 'i', 'prepared', '<period>', '<quotation_mark>', 'under', 'though', 'getting', 'now', 'doggedly', 'not', 'immediately', 'respond', 'to', 'the', 'senates', 'countries', 'for', 'trump', '<comma>', '<quotation_mark>', 'eight', 'said', '<period>', 'grant', 'that', 'the', 'wall', '<comma>', 'without', 'mellon', 'from', 'lee', 'he', 'efforts', 'to', 'the', 'national', 'leading', 'and', 'polyester', 'dollar', 'semblance', 'during', 'the', 'united', 'states', 'of', 'the', 'company', 'and', 'in', 'former', 'for', 'friday', '<period>', '<quotation_mark>', 'the', 'states', 'would', '<comma>', 'republicans', 'conflicting', 'glitches', 'on', 'friday', '<period>', 'committees', 'south', 'tried', '<question_mark>', 'and', 'close', '<period>', 'it', 'to', 'frederica', 'meet', '<period>', 'in', '<quotation_mark>', 'i', 'marsh', 'news', 'suspension', '<period>', 'she', 'did', 'not', 'respond', 'to', 'work', '<comma>', '<quotation_mark>', '<quotation_mark>', 'the', 'ahead', '<period>', '<quotation_mark>', 'the', '<quotation_mark>', 'that', 'the', '10', '<period>', 'the', 'federal', '<period>', '<quotation_mark>', 'for', 'this', 'study', 'were', 'partner', 'boucher', 'in', 'a', 'or', 'amana', 'to', 'decade', '<period>', 'a', 'ordinance', 'is', 'vote', 'to', 'the', 'between', 'hydrogen', '<period>', '<quotation_mark>', 'he', 'speaker', 'lost', 'a', 'such', 'aftermath', 'were', 'doctor', 'in', 'governor', '<period>', '<quotation_mark>']\n",
      "\n",
      "\n",
      "<2023-05-29 13:35:23.999002> | epoch: 1600/10000 | loss: 5.675768534342448\n",
      "['i', 'would', 'like']\n",
      "['i', 'would', 'like', '<quotation_mark>', 'more', 'mcdonalds', 'of', 'russian', 'u', '<period>', 's', '<period>', 'secretary', '<comma>', 'and', 'the', 'charges', 'from', 'a', 'russian', 'with', 'origins', 'in', 'have', 'will', 'be', 'these', 'commission', '<comma>', 'a', 'who', '<comma>', 'a', 'company', '<period>', 'tillerson', 'have', 'that', 'those', 'cooperation', '<comma>', 'this', 'tax', 'plan', 'to', 'be', 'allowing', 'investigation', '<comma>', '<quotation_mark>', 'have', '<comma>', 'polyester', 'it', 'ended', 'since', 'police', 'of', 'global', 'fara', 'as', 'washington', '<comma>', 'trump', 'said', '<period>', 'but', 'in', 'a', 'houston', '<period>', '<quotation_mark>', 'the', 'rules', 'with', 'nominees', 'and', 'congress', '<period>', 'propelled', '<right_paren>', 'sudan', 'to', 'familiar', 'the', 'united', 'states', '<comma>', 'said', 'he', 'would', 'be', 'tilt', 'before', 'have', 'described', 'emissions', 'tax', '<period>', '<comma>', 'representative', 'headquarters', '<comma>', 'a', 'million', 'has', 'ordered', 'on', 'both', 'a', '<quotation_mark>', 'nuclear', '<period>', 'the', 'due', 'with', 'those', 'said', '<period>', 's', '<period>', 'n', 'in', 'refueling', '<question_mark>', 'up', 'fueled', '<period>', 'trump', '<period>', 'in', 'a', 'communications', 'on', 'november', '<period>', 'judge', 'that', 'have', 'also', 'consist', '<left_paren>', 'lieutenant', 'trump', 'and', 'house', 'overhaul', 'to', 'improve', 'common', 'favor', 'by', 'its', 'can', 'get', 'change', '<period>', '24', 'by', 'the', 'economy', '<comma>', '<quotation_mark>', 'i', 'creation', 'with', 'open', 'to', 'point', 'to', 'commerce', 'are', 'said', 'on', 'washington', '<period>', 'leader', 'committee', 'and', 'each', 'the', 'back', 'months', '<comma>', 'congressional', 'legal', '<period>', 'the', 'cellphone', 'texas', 'aggressive', 'changes', 'as', 'he', 'collins', 'to', 'the', 'asian', 'if', 'florida', '<semicolon>', '<comma>', 'and']\n",
      "\n",
      "\n",
      "<2023-05-29 13:36:04.719479> | epoch: 2000/10000 | loss: 6.527474975585937\n",
      "['i', 'would', 'like']\n",
      "['i', 'would', 'like', 'the', 'new', 'areas', '<comma>', 'weiners', 'not', 'be', 'over', 'over', 'courts', 'month', 'as', 'a', 'statement', '<comma>', 'the', 'job', 'said', 'annual', 'is', 'im', 'not', 'aggressively', 'to', 'the', 'major', 'deduction', '<comma>', 'the', '2016', 'of', '2002', 'ordered', 'debt', '<period>', '<comma>', 'told', 'one', 'dropped', 'to', 'the', 'fuel', '<question_mark>', 'theme', 'reported', 'of', 'u', '<period>', 's', '<period>', 'letter', 'from', 'you', 'had', 'to', 'just', 'not', 'a', 'shutdown', 'from', 'the', 'u', '<period>', 's', '<period>', 'the', 'federal', 'by', 'the', 'treasury', 'on', 'rules', 'would', 'loan', 'the', 'spokesman', 'on', '$19', '<comma>', 'which', 'included', 'first', 'had', 'baker', 'on', 'sanctioned', 'taxes', 'from', 'the', 'test', 'of', 'disputed', '<comma>', '<quotation_mark>', 'and', 'delrahim', 'in', 'so', 'minority', 'asian', 'on', 'waive', '<comma>', 'and', '<period>', 'the', 'president', 'department', 'said', 'the', 'tech', 'to', 'sign', 'at', '2', 'already', 'mercantile', '<comma>', 'my', 'pressure', '<comma>', '<quotation_mark>', 'said', 'trump', 'for', 'its', 'audience', 'and', 'backing', 'backing', '<period>', 'the', 'u', '<period>', 's', '<period>', 'rhode', 'didnt', 'is', 'who', 'setting', 'on', '29', 'of', 'presidency', 'acknowledged', 'to', 'outright', 'born', '<comma>', 'in', 'a', 'leader', '<quotation_mark>', 'launched', 'help', '<period>', '<quotation_mark>', 'he', 'said', 'attach', 'charlottesville', '<comma>', 'trump', 'had', 'been', 'hurd', 'to', 'automakers', '<comma>', 'a', 'move', 'to', 'feuded', 'court', 'from', 'win', 'u', '<period>', 's', '<period>', 'a', 'television', 'rules', 'and', 'pennsylvania', 'neil', 'by', 'sales', 'for', 'the', 'united', 'states', '<comma>', '<quotation_mark>', 'said', 'stevie', 'of', 'comment', '<comma>']\n",
      "\n",
      "\n",
      "<2023-05-29 13:36:45.188176> | epoch: 2400/10000 | loss: 6.1717071533203125\n",
      "['i', 'would', 'like']\n",
      "['i', 'would', 'like', 'the', 'outcome', 'to', 'be', 'said', 'talks', '<period>', '6', 'told', 'that', 'we', 'do', '<quotation_mark>', 'respond', 'to', 'hit', 'into', 'a', 'u', '<period>', 's', '<period>', 'house', 'deduction', '<period>', 'ago', 'in', 'july', 'illegally', 'groups', '<period>', 'democrats', 'respectively', 'have', 'the', 'fed', 'year', '<period>', '<quotation_mark>', 'meal', 'that', 'they', 'is', 'north', 'mitch', 'be', 'others', '<comma>', 'but', 'the', 'market', 'approach', 'and', 'excise', 'than', 'muslim', 'ordering', '<comma>', 'as', 'creating', 'members', 'and', 'efforts', '<comma>', 'and', 'hard', 'with', 'the', 'protects', '<period>', 'the', 'president', 'and', 'iowans', 'home', 'in', '2', 'and', 'muslim', 'code', '<comma>', 'the', 'offshore', 'bills', 'and', 'let', '<period>', 'that', 'great', 'attack', '<comma>', 'with', 'address', 'high', 'and', 'republicans', 'and', 'wanted', '<period>', '<quotation_mark>', 'we', 'toomey', 'governor', 'make', 'to', '<quotation_mark>', 'the', 'hashim', 'representing', 'result', 'of', 'the', 'report', 'campaign', '<period>', 'the', 'house', 'of', 'u', '<period>', 's', '<period>', 'de', 'accounting', 'offered', '<comma>', 'two', 'effort', '<comma>', 'door', 'committee', 'on', 'bit', '<period>', 'tillerson', '<period>', '<quotation_mark>', 'county', 'are', '401', 'to', 'long', 'showed', 'the', 'daughter', 'said', 'this', 'effect', 'paul', 'in', 'aid', '<period>', '<quotation_mark>', 'highly', 'allowed', 'by', 'a', 'between', 'a', 'state', '<question_mark>', 'based', 'critic', 'spokeswoman', 'and', '12th', 'favor', '<period>', 'chinas', 'knee', 'militia', '<comma>', 'trump', 'said', 'this', '<comma>', '000', '<period>', 'gmt', 'on', 'a', 'part', 'of', 'the', 'reform', 'and', 'it', 'had', 'allow', 'fire', 'out', 'in', 'd', 'destroy', 'that', 'benefits', 'the', 'world', 'union', 'and']\n",
      "\n",
      "\n",
      "<2023-05-29 13:37:25.167177> | epoch: 2800/10000 | loss: 5.6115366617838545\n",
      "['i', 'would', 'like']\n",
      "['i', 'would', 'like', '<quotation_mark>', 'dream', 'been', 'identifying', 'permanent', 'seoul', 'for', 'our', 'us', 'of', 'the', 'economy', '<period>', '<quotation_mark>', 'we', 'believe', 'it', 'is', 'clinton', 'on', 'encouraging', 'russia', '<comma>', 'trump', 'has', 'been', 'the', 'only', 'is', 'jan', 'out', 'for', 'safety', 'officials', '<comma>', 'brought', 'was', 'insurance', 'nations', 'by', 'muslim', 'taxes', '<comma>', 'which', 'wrote', '<period>', '<quotation_mark>', 'asked', 'that', 'the', 'judge', '<period>', 'just', 'is', 'to', 'respond', 'the', 'most', 'said', 'the', 'deal', '<period>', 'that', 'the', 'senate', 'of', 'the', 'justice', 'said', 'the', 'tax', 'cuts', '<period>', 'with', 'going', 'from', 'the', 'president', '<comma>', 'said', 'the', 'u', '<period>', 's', '<period>', 'payable', 'and', 'trump', 'was', 'the', 'media', 'dream', 'of', 'both', 'monday', 'pay', 'the', 'white', 'house', 'last', '<question_mark>', 'whether', 'neutral', 'protection', 'being', 'and', 'return', 'in', 'you', 'kevin', 'blending', 'ban', 'from', 'adopt', '<period>', '<quotation_mark>', 'a', 'importance', 'presidential', 'election', '<comma>', '<quotation_mark>', 'the', 'fate', '<period>', 'embassy', 'we', 'done', 'for', 'hurricane', 'links', 'through', 'the', 'company', '<period>', '<quotation_mark>', 'we', 'need', 'to', 'level', 'services', '<comma>', 'including', 'the', 'bill', 'from', 'the', 'united', 'states', 'by', 'university', 'party', 'in', 'the', 'deal', 'the', 'cut', '<question_mark>', 'a', 'statement', '<period>', '<quotation_mark>', 'weve', 'legislatures', '<comma>', 'back', 'president', 'donald', 'trumps', 'even', 'of', 'the', 'federal', 'election', 'date', '<question_mark>', 'however', 'liberal', 'the', 'bill', 'for', 'our', 'act', 'and', 'were', 'sexual', 'emergency', '<comma>', 'and', 'support', 'as', 'which', 'is', 'a', 'ankara', '<question_mark>', 'year', 'to', 'a', 'statement']\n",
      "\n",
      "\n",
      "<2023-05-29 13:38:05.899175> | epoch: 3200/10000 | loss: 6.193316650390625\n",
      "['i', 'would', 'like']\n",
      "['i', 'would', 'like', 'the', 'representative', 'chief', 'instead', 'to', 'trumps', 'senate', 'majority', '<comma>', 'the', 'house', 'reports', 'was', 'trumps', 'fcc', 'from', 'google', 'as', 'earlier', 'the', 'seven', 'of', 'individual', 'by', 'north', 'korea', 'is', 'going', 'to', 'respond', 'on', 'questions', '<comma>', 'said', '<comma>', 'heavily', 'with', 'them', '<comma>', '<quotation_mark>', 'for', 'north', 'rules', '<period>', 'but', 'he', 'has', 'no', 'become', 'the', 'senate', 'of', 'four', 'dangerous', 'to', 'help', 'an', 'insult', 'is', 'released', 'next', 'law', '<comma>', 'i', 'will', 'stop', 'sent', 'his', 'york', 'in', 'the', 'cbo', 'relationship', '<period>', '<quotation_mark>', 'trump', 'was', 'inappropriate', 'other', 'action', 'in', 'the', 'trump', 'administration', 'told', 'reporters', 'on', 'talks', 'years', '<comma>', '<comma>', 'calling', 'the', 'differences', 'towards', 'that', 'have', 'based', 'this', 'year', 'that', 'he', 'and', 'perry', 'declined', 'to', 'the', 'senate', 'is', 'top', 'many', '<left_paren>', 'the', 'lawmakers', 'is', 'protect', 'for', 'a', 'days', 'in', 'without', 'pay', 'his', 'poll', 'no', 'susan', 'north', 'security', 'invoke', 'and', 'key', 'something', 'questioning', '<comma>', 'he', 'said', 'in', 'the', 'united', 'states', 'after', 'the', 'partys', 'cut', 'wrote', 'to', 'announce', 'to', 'all', 'team', '<comma>', '<quotation_mark>', 'said', 'earlier', 'by', 'repeated', '<comma>', 'only', 'agencys', 'make', 'jessica', '<comma>', '000', '<comma>', 'foreign', 'of', 'the', 'wealthy', 'have', 'comply', 'it', 'that', 'past', 'see', 'the', 'measure', 'would', 'need', 'under', 'the', 'justice', '<question_mark>', 'background', 'operating', '<period>', '<quotation_mark>', 'trump', 'is', 'to', 'see', 'time', 'on', 'because', 'it', 'trying', 'to', 'step', 'whether', 'trump', 'a']\n",
      "\n",
      "\n",
      "<2023-05-29 13:38:48.934749> | epoch: 3600/10000 | loss: 5.732550048828125\n",
      "['i', 'would', 'like']\n",
      "['i', 'would', 'like', 'johnson', '<period>', 'we', 'are', 'east', 'to', 'impeded', 'the', 'house', 'administration', '<period>', 'were', 'add', '<period>', 'thursday', 'the', 'white', 'house', '<comma>', 'i', 'can', 'pledged', 'to', 'iran', 'republicans', 'the', 'official', '<comma>', '<quotation_mark>', 'we', 'have', 'yet', '<quotation_mark>', '<period>', 'senate', 's', '<period>', 'u', '<period>', 's', '<period>', 'and', 'tug', 'out', 'of', 'family', '<right_paren>', 'a', '100', '<period>', '<question_mark>', 'bright', '<comma>', '<quotation_mark>', 'we', 'do', 'the', 'middle', '<question_mark>', 'term', 'services', '<period>', 'a', 'time', 'from', 'papadopoulos', '<comma>', 'runoff', 'to', 'transparency', 'universities', '<period>', 'in', 'a', 'hearing', 'on', 'thursday', '<period>', 'sessions', '<period>', '<left_paren>', 'school', '<comma>', 'their', 'framework', '<comma>', 'and', 'company', 'return', 'to', 'corporations', 'are', 'take', 'a', 'series', '<comma>', 'one', 'of', 'our', 'molina', 'plan', 'to', 'records', 'had', 'dropped', 'up', 'to', 'help', 'the', 'white', 'house', '<period>', '<quotation_mark>', 'a', '15', 'major', 'tax', 'cuts', '<comma>', 'large', 'shamalov', 'to', 'sell', 'the', 'trump', 'bill', '<period>', 'little', 'made', 'by', '10', '<period>', 'the', 'republican', 'government', '<comma>', 'which', '<comma>', 'an', 'tax', 'bill', 'for', 'his', 'tuesday', 'who', 'have', 'been', 'partners', 'to', 'protect', 'stance', '<comma>', 'representative', 'software', 'decide', 'as', 'his', 'top', 'law', 'was', 'a', 'see', 'or', 'slashing', 'we', 'hope', 'trump', 'has', 'frequently', 'wants', '<comma>', 'i', 'to', 'pass', 'a', 'win', '<period>', 'trump', 'was', 'taken', 'for', 'the', 'possible', 'policy', '<question_mark>', 'based', 'than', 'u', '<period>', 's', '<period>', 'system', '<period>', 'income', 'for', 'accuracy', 'qualify', 'committee', '<comma>', 'china']\n",
      "\n",
      "\n",
      "<2023-05-29 13:39:31.764830> | epoch: 4000/10000 | loss: 5.877386474609375\n",
      "['i', 'would', 'like']\n",
      "['i', 'would', 'like', 'the', 'orders', 'procedure', 'economy', '<period>', 'the', 'united', 'states', 'is', 'research', '<quotation_mark>', 'from', 'his', 'nuclear', 'disaster', 'healthcare', 'act', '<period>', 'the', 'governor', 'political', 'vice', 'the', 'deputy', 'changes', 'with', 'the', 'lack', '<comma>', 'said', 'that', 'u', '<period>', 's', '<period>', 'how', 'would', 'not', 'immediately', 'change', 'to', 'state', 'or', 'sessions', '<comma>', 'has', 'accusations', 'or', 'letter', 'to', 'venezuela', 'on', 'a', 'broad', 'authority', 'to', 'gathered', 'a', 'vote', '<comma>', 'with', 'russia', '<comma>', 'the', 'latest', 'unless', 'domenici', '<quotation_mark>', 'remains', 'confirmations', 'on', 'a', 'state', 'period', 'for', 'a', 'longer', 'senate', 'industry', 'would', '$315', 'a', 'gershman', 'decision', 'to', 'the', 'measure', '<comma>', 'not', 'begin', 'the', 'deficit', 'nancy', '<comma>', '<comma>', 'is', 'been', 'refiled', 'the', 'official', 'of', 'a', 'fstec', '<quotation_mark>', '<quotation_mark>', 'employers', 'associates', 'high', 'false', '<comma>', 'according', 'to', 'the', 'week', 'are', 'also', 'credentials', 'in', 'the', 'white', 'house', '<period>', 'the', 'resisted', '<period>', 'he', 'said', 'he', 'was', 'in', 'the', 'u', '<period>', 's', '<period>', 'overseas', 'on', 'the', 'federal', 'sessions', 'on', 'monday', '<comma>', 'noting', 'of', 'the', 'alabama', 'veil', '<comma>', 'who', 'is', 'the', 'hearings', 'department', '<comma>', '<quotation_mark>', 'republicans', 'said', 'the', 'top', 'has', 'denied', 'messages', '<period>', '<quotation_mark>', 'the', 'white', 'house', 'said', 'the', 'anthem', '<period>', '<quotation_mark>', 'the', 'im', 'historic', 'vote', 'to', 'comment', '<period>', 'officials', 'told', 'fake', 'the', 'district', 'salaries', 'to', 'be', 'strong', 'sanctions', 'on', 'the', 'ehrsam', '<comma>', 'but', 'local', 'turning', 'is', '<question_mark>', 'aid']\n",
      "\n",
      "\n",
      "<2023-05-29 13:40:14.104873> | epoch: 4400/10000 | loss: 7.314461771647135\n",
      "['i', 'would', 'like']\n",
      "['i', 'would', 'like', 'for', 'president', 'donald', 'trump', 'to', 'work', '<quotation_mark>', 'for', 'the', 'excise', 'deal', 'to', 'week', 'to', '20', 'percent', 'on', 'a', 'major', 'legislative', 'financial', 'financial', 'country', '<period>', '<quotation_mark>', '13', 'white', 'house', 'policies', 'provided', 'now', '<comma>', 'which', 'came', 'and', 'a', 'prosecuting', 'term', 'date', 'work', 'with', 'massive', 'trade', 'ban', '<comma>', '<quotation_mark>', 'we', 'are', 'expected', 'to', 'block', 'november', 'privacy', '<period>', '<quotation_mark>', 'this', '<comma>', 'a', '<quotation_mark>', 'human', 'million', 'and', 'islamic', 'required', 'to', 'after', 'former', 'conservative', 'lawsuit', 'sources', '<comma>', 'put', 'the', 'presidents', 'care', 'of', '2017', '<comma>', 'a', 'new', 'economy', '<comma>', 'xavier', 'serving', '<left_paren>', 'months', 'of', 'representatives', 'acknowledged', 'committee', '<comma>', 'said', 'in', '<quotation_mark>', 'easier', 'to', 'get', 'control', 'of', 'the', 'high', 'comey', '<period>', '<quotation_mark>', 'we', 'dont', 'are', 'him', 'to', 'pressure', 'to', 'the', 'house', 'of', 'representatives', 'speaker', 'paul', 'ryan', 'said', '<period>', 'many', 'house', 'of', 'representatives', 'donald', 'trump', 'to', 'look', 'new', 'attorney', 'general', 'known', 'on', 'the', 'emergency', 'counsel', '<comma>', 'john', 'then', 'peace', '<comma>', 'new', 'jersey', 'expected', '<period>', 'the', 'intelligence', '<quotation_mark>', 'murphy', 'also', 'repeal', 'wary', 'known', 'as', 'the', 'committee', 'tax', '<left_paren>', 'media', 'before', 'that', 'from', 'four', 'as', 'trying', 'to', 'track', 'its', 'u', '<period>', 's', '<period>', 'economic', 'cooperation', 'with', 'the', 'case', 'that', 'the', 'president', 'is', 'said', 'on', 'the', 'u', '<period>', 's', '<period>', 'business', 'general', 'and', 'into', 'the', 'cbo', 'majority', 'interest', '<period>', 'we', 'have', 'to']\n",
      "\n",
      "\n",
      "<2023-05-29 13:41:00.422250> | epoch: 4800/10000 | loss: 6.680334981282552\n",
      "['i', 'would', 'like']\n",
      "['i', 'would', 'like', 'a', '20', 'percent', '<period>', 'district', 'time', '<comma>', '<period>', 'about', 'the', 'future', 'of', 'the', 'measure', 'could', 'ask', 'the', '10', 'u', '<period>', 's', '<period>', 'security', 'of', 'turned', 'from', 'you', 'wrong', 'has', 'blocked', 'up', 'to', 'tuesday', 'spoken', 'would', 'bring', 'today', '<period>', '<quotation_mark>', 'we', 'cannot', 'happen', 'of', 'the', 'lawmakers', '<comma>', '<quotation_mark>', 'he', 'would', 'restore', 'by', 'u', '<period>', 's', '<period>', 'households', 'whether', 'the', 'party', 'said', '<period>', 'republican', 'president', 'said', 'that', 'roy', 'rebuilding', 'he', 'corp', 'waited', 'by', 'whether', 'to', 'the', 'candidate', 'in', 'his', 'leader', 'western', 'of', 'phd', 'and', 'giveaways', 'major', '2010', 'and', 'the', 'vote', 'on', 'thursday', '<period>', 'the', 'review', 'vetted', 'who', 'like', 'possible', 'army', 'of', 'his', 'agency', 'with', 'the', 'records', 'of', 'jobs', '<period>', 'he', 'an', 'tweets', 'to', 'help', 'that', 'the', 'mood', 'made', 'democrats', '<comma>', 'an', 'nonpartisan', 'vote', '<period>', 'under', 'the', 'dreamers', 'said', 'he', 'was', 'wrong', 'is', 'going', 'to', 'the', 'powerful', '<question_mark>', '1b', '<period>', 'papadopoulos', 'conference', 'the', 'now', 'chairman', 'of', 'the', 'national', 'security', 'committees', '<comma>', 'president', 'intelligence', 'committee', 'chairman', '<comma>', 'he', 'would', 'be', 'oppose', 'targets', 'in', 'the', 'tax', 'administration', 'running', 'such', 'as', 'long', 'said', '<period>', '<quotation_mark>', 'more', 'than', 'ice', 'principles', 'at', 'the', 'vegas', 'and', 'the', 'nuclear', 'democratic', 'party', 'and', 'xi', 'on', 'wednesday', '<period>', '<quotation_mark>', 'concluded', 'that', 'some', 'u', '<period>', 'n', '<period>', 'supporters', '<comma>', 'he', 'said', '<period>', '<quotation_mark>']\n"
     ]
    }
   ],
   "source": [
    "gentext = Generator()\n",
    "gentext.train()\n"
   ]
  },
  {
   "cell_type": "code",
   "execution_count": null,
   "metadata": {},
   "outputs": [
    {
     "name": "stdout",
     "output_type": "stream",
     "text": [
      "['i', 'would', 'like']\n"
     ]
    },
    {
     "data": {
      "text/plain": [
       "'i would like the state of the trump administration in the u <period> s <period> intelligence agencies <comma> <quotation_mark> said mulvaney and reality in the hard was immediately <comma> who declined to comment <period> some of the justice department of a news post <comma> <quotation_mark> the bill has made from the treaty of congress <period> the time of government <comma> <quotation_mark> trump told reporters he hoped to set the non <question_mark> mexico <comma> including the iran for the company to help the election of our supreme korea <period> both director of the administration <comma> and that will be <comma> whose of the law <period> the republican senator near the u <period> s <period> sanctions <period> russia is not be failed to help a visit in the president ashraf law <comma> <quotation_mark> said mogherini did not delay the orthopedic <period> in the broad question of the u <period> s <period> intelligence agencies has been happen to the two york <comma> which is not to happen the justice department of big american <comma> according to its computer it could be be to comment <period> under a <quotation_mark> on fox news <period> reuters <comma> the republican has been early up up for u <period> s <period> <left_paren> different paying in the deficit <comma> which have been with the bill law to pass a whether in the plan <comma> <quotation_mark> collins said <period> the u <period> s <period> president donald trump said the current group said on the two <question_mark> plan <period> <quotation_mark> i know it would provide puerto rico <period> <period> in the fbi <quotation_mark> on the house of representatives <comma> <quotation_mark> yellen said on wednesday <period> <quotation_mark> that he was trying to make a potential order <period> the republican <question_mark> term group of the united states <comma> said he was just his fix in the administration <comma> adding <comma> <quotation_mark> said on twitter <comma> state of the press of the value of wisconsin <comma> and the countrys administration said on twitter <comma> a legal group of the senate <comma> the loss said <period> he hoped trump on a previous that the u <period> s <period> <question_mark> insurance growth was been starting that have been opposed the island <comma> <quotation_mark> trump said he was also a real charming by the nonpartisan sources <comma> <quotation_mark> he said <period> but the administration said on twitter that the u <period> s <period> house of representatives and republicans and the'"
      ]
     },
     "execution_count": 161,
     "metadata": {},
     "output_type": "execute_result"
    }
   ],
   "source": [
    "' '.join(gentext.generate(initial_str='i would like', predict_len=400, temperature=0.65))\n"
   ]
  },
  {
   "cell_type": "code",
   "execution_count": null,
   "metadata": {},
   "outputs": [],
   "source": [
    "# m = nn.Linear(512, 100)\n",
    "# input = torch.randn(1, 512)\n",
    "# output = m(input)\n",
    "# print(output)\n"
   ]
  }
 ],
 "metadata": {
  "kernelspec": {
   "display_name": ".venv",
   "language": "python",
   "name": "python3"
  },
  "language_info": {
   "codemirror_mode": {
    "name": "ipython",
    "version": 3
   },
   "file_extension": ".py",
   "mimetype": "text/x-python",
   "name": "python",
   "nbconvert_exporter": "python",
   "pygments_lexer": "ipython3",
   "version": "3.8.3"
  },
  "orig_nbformat": 4
 },
 "nbformat": 4,
 "nbformat_minor": 2
}
